{
 "cells": [
  {
   "cell_type": "markdown",
   "id": "891ec0ba",
   "metadata": {},
   "source": [
    "   # Algebra lineare computazionale\n",
    "   \n",
    "   Come spunto possiamo usare il [libro](http://immersivemath.com/ila/) il riferimento è la seguente [lezione]( https://youtu.be/8iGzBMboA0I?list=PLtmWHNX-gukIc92m1K0P6bIOnZb-mg0hY&t=795) quando si lavora sulle matrici i fattori più importanti da tenere a mente sono:\n",
    "\n",
    "* Uso della memoria\n",
    "* Velocità\n",
    "* Stabilità / Accuratezza\n",
    "* Scalabilità (ovvero la possibilità di parallelizzare)\n",
    "\n",
    "Partiamo con un esempio di come una matrice può rappresentare un problema, partiamo con una catena di markov.\n",
    "\n",
    "![markov](./images/markov_health.jpg)\n",
    "\n",
    "in questa matrice viene rappresentato il cambio di stato dopo un anno di una analisi sulla malattia HIV.\n",
    "Ogni arco rappresenta la probabilità di passare da uno stato all'altro. \n",
    "\n",
    "Partiamo con un vettore che rappresenta le percentuali attuali dei pazienti:\n",
    "\n",
    "* 85% asintomatico\n",
    "* 10% sintomatico\n",
    "* 5% AIDS\n",
    "* 0% morto\n",
    "\n",
    "Quale sarà la nuova distribuzione dopo un anno?\n"
   ]
  },
  {
   "cell_type": "code",
   "execution_count": 1,
   "id": "b82353cd",
   "metadata": {},
   "outputs": [
    {
     "data": {
      "text/plain": [
       "array([[0.9 , 0.07, 0.02, 0.01],\n",
       "       [0.  , 0.93, 0.05, 0.02],\n",
       "       [0.  , 0.  , 0.85, 0.15],\n",
       "       [0.  , 0.  , 0.  , 1.  ]])"
      ]
     },
     "execution_count": 1,
     "metadata": {},
     "output_type": "execute_result"
    }
   ],
   "source": [
    "import numpy as np\n",
    "\n",
    "matrix = [[0.9,0.07,0.02,0.01],[0,0.93,0.05,0.02],[0,0,0.85,0.15],[0,0,0,1]]\n",
    "matrix = np.asarray(matrix)\n",
    "matrix"
   ]
  },
  {
   "cell_type": "code",
   "execution_count": 2,
   "id": "aec09bd3",
   "metadata": {},
   "outputs": [
    {
     "data": {
      "text/plain": [
       "array([[0.85, 0.1 , 0.05, 0.  ]])"
      ]
     },
     "execution_count": 2,
     "metadata": {},
     "output_type": "execute_result"
    }
   ],
   "source": [
    "vector = [0.85,0.1,0.05,0]\n",
    "vector = np.asarray([vector])\n",
    "vector"
   ]
  },
  {
   "cell_type": "code",
   "execution_count": 3,
   "id": "513c753a",
   "metadata": {},
   "outputs": [
    {
     "data": {
      "text/plain": [
       "array([[0.9 , 0.  , 0.  , 0.  ],\n",
       "       [0.07, 0.93, 0.  , 0.  ],\n",
       "       [0.02, 0.05, 0.85, 0.  ],\n",
       "       [0.01, 0.02, 0.15, 1.  ]])"
      ]
     },
     "execution_count": 3,
     "metadata": {},
     "output_type": "execute_result"
    }
   ],
   "source": [
    "matrix.T"
   ]
  },
  {
   "cell_type": "code",
   "execution_count": 4,
   "id": "965b8ffd",
   "metadata": {},
   "outputs": [
    {
     "data": {
      "text/plain": [
       "array([[0.85],\n",
       "       [0.1 ],\n",
       "       [0.05],\n",
       "       [0.  ]])"
      ]
     },
     "execution_count": 4,
     "metadata": {},
     "output_type": "execute_result"
    }
   ],
   "source": [
    "vector.T"
   ]
  },
  {
   "cell_type": "code",
   "execution_count": 5,
   "id": "03cf74a2",
   "metadata": {},
   "outputs": [
    {
     "data": {
      "text/plain": [
       "array([[0.765 ],\n",
       "       [0.1525],\n",
       "       [0.0645],\n",
       "       [0.018 ]])"
      ]
     },
     "execution_count": 5,
     "metadata": {},
     "output_type": "execute_result"
    }
   ],
   "source": [
    "matrix.T @ vector.T"
   ]
  },
  {
   "cell_type": "code",
   "execution_count": 6,
   "id": "49cd9412",
   "metadata": {},
   "outputs": [
    {
     "data": {
      "text/plain": [
       "array([[0.765 , 0.1525, 0.0645, 0.018 ]])"
      ]
     },
     "execution_count": 6,
     "metadata": {},
     "output_type": "execute_result"
    }
   ],
   "source": [
    "(vector @ matrix)"
   ]
  },
  {
   "cell_type": "markdown",
   "id": "22c00eff",
   "metadata": {},
   "source": [
    "Vediamo un altro semplice problema.\n",
    "\n",
    "![shop](./images/shop.png)\n",
    "\n",
    "[qui](https://www.mff.cuni.cz/veda/konference/wds/proc/pdf06/WDS06_106_m8_Ulrychova.pdf) per leggere tutto l'articolo "
   ]
  },
  {
   "cell_type": "code",
   "execution_count": 7,
   "id": "a6e3bbeb",
   "metadata": {},
   "outputs": [
    {
     "data": {
      "text/plain": [
       "array([[50. , 49. ],\n",
       "       [58.5, 61. ],\n",
       "       [43.5, 43.5]])"
      ]
     },
     "execution_count": 7,
     "metadata": {},
     "output_type": "execute_result"
    }
   ],
   "source": [
    "people = [[6,5,3,1],[3,6,2,2],[3,4,3,1]]\n",
    "prices = [[1.5,1],[2,2.5],[5,4.5],[16,17]]\n",
    "\n",
    "people = np.asarray(people)\n",
    "prices = np.asarray(prices)\n",
    "\n",
    "people @ prices"
   ]
  },
  {
   "cell_type": "markdown",
   "id": "7a819c6a",
   "metadata": {},
   "source": [
    "passiamo ad un ulteriore esercizio, le immagini possono essere rappresentate tramite una matrice.\n",
    "\n",
    "![digit](./images/digit.gif)\n",
    "\n",
    "La convoluzione sta alla base delle reti neuronali di maggior successo nel campo della computer vision\n",
    "\n",
    "## Decomposizione di una matrice\n",
    "\n",
    "Un altro aspetto importante è quello relativo alla decomposizione di una matrice.\n",
    "Vediamo ad esempio una matrice che collega una parola (termine ad un documento)\n",
    "\n",
    "![document term](./images/document_term.png)\n",
    "\n",
    "Tramite una decomposizione riusciamo ad ottenere due matrici che rappresentano gli argomenti nei documenti e la loro importanza.\n",
    "\n",
    "![nmf](./images/nmf_doc.png)\n",
    "\n",
    "## Rimozione dello sfondo\n",
    "\n",
    "Un'altra cosa interessante che possiamo fare è la rimozione dello sfondo tramite tecniche di rimozione dello sfondo\n",
    "\n",
    "![survelliance](./images/surveillance3.png)\n",
    "\n",
    "## Pagerank\n",
    "\n",
    "Un altro algoritmo interessante è quello usato da google \n",
    "\n",
    "![pagerank](./images/page_rank_graph.png)\n",
    "\n",
    "\n",
    "## Stabilità numerica\n",
    "\n",
    "### Aritmetica dei numeri a virgola mobile\n",
    "\n",
    "Per comprendere la stabilità numerica dobbiamo prima comprendere come i computer (che non possono salvare numeri a cifre infinite) trattano i numeri.\n",
    "\n",
    "\n",
    "Prendiamo un momento per vedere la funzione sottostante, eseguendo i calcoli a mano, calcoliamo il risultato di $x_2 = f(\\frac{1}{10})$ ora sempre sulla carta calcoliamo $x_3 = f(x_2)$ e via così per 10 volte"
   ]
  },
  {
   "cell_type": "code",
   "execution_count": 8,
   "id": "44ef7634",
   "metadata": {},
   "outputs": [],
   "source": [
    "def f(x):\n",
    "    if x <= 1/2:\n",
    "        return 2 * x\n",
    "    if x > 1/2:\n",
    "        return 2*x - 1"
   ]
  },
  {
   "cell_type": "markdown",
   "id": "d935c0d2",
   "metadata": {},
   "source": [
    "Ora eseguiamo il calcolo tramite computer prima utilizzando il supporto alle frazioni e poi usando i numeri a virgola mobile:"
   ]
  },
  {
   "cell_type": "code",
   "execution_count": 9,
   "id": "bf94fb08",
   "metadata": {},
   "outputs": [],
   "source": [
    "from fractions import Fraction\n",
    "\n",
    "fract = []\n",
    "\n",
    "x = Fraction(1, 10)\n",
    "for i in range(80):\n",
    "    fract.append(x)\n",
    "    x = f(x)"
   ]
  },
  {
   "cell_type": "code",
   "execution_count": 10,
   "id": "dd68fd90",
   "metadata": {},
   "outputs": [],
   "source": [
    "floatValues = []\n",
    "\n",
    "x = 1/10\n",
    "for i in range(80):\n",
    "    floatValues.append(x)\n",
    "    x = f(x)"
   ]
  },
  {
   "cell_type": "code",
   "execution_count": 11,
   "id": "a281f388",
   "metadata": {},
   "outputs": [
    {
     "name": "stdout",
     "output_type": "stream",
     "text": [
      "1   1/10 0.10000 0.00000\n",
      "2   1/5  0.20000 0.00000\n",
      "3   2/5  0.40000 0.00000\n",
      "4   4/5  0.80000 0.00000\n",
      "5   3/5  0.60000 0.00000\n",
      "6   1/5  0.20000 0.00000\n",
      "7   2/5  0.40000 0.00000\n",
      "8   4/5  0.80000 0.00000\n",
      "9   3/5  0.60000 0.00000\n",
      "10  1/5  0.20000 0.00000\n",
      "11  2/5  0.40000 0.00000\n",
      "12  4/5  0.80000 0.00000\n",
      "13  3/5  0.60000 0.00000\n",
      "14  1/5  0.20000 0.00000\n",
      "15  2/5  0.40000 0.00000\n",
      "16  4/5  0.80000 0.00000\n",
      "17  3/5  0.60000 0.00000\n",
      "18  1/5  0.20000 0.00000\n",
      "19  2/5  0.40000 0.00000\n",
      "20  4/5  0.80000 0.00000\n",
      "21  3/5  0.60000 0.00000\n",
      "22  1/5  0.20000 0.00000\n",
      "23  2/5  0.40000 0.00000\n",
      "24  4/5  0.80000 0.00000\n",
      "25  3/5  0.60000 0.00000\n",
      "26  1/5  0.20000 0.00000\n",
      "27  2/5  0.40000 0.00000\n",
      "28  4/5  0.80000 0.00000\n",
      "29  3/5  0.60000 0.00000\n",
      "30  1/5  0.20000 0.00000\n",
      "31  2/5  0.40000 0.00000\n",
      "32  4/5  0.80000 0.00000\n",
      "33  3/5  0.60000 0.00000\n",
      "34  1/5  0.20000 0.00000\n",
      "35  2/5  0.40000 0.00000\n",
      "36  4/5  0.80000 0.00000\n",
      "37  3/5  0.60000 0.00000\n",
      "38  1/5  0.20000 0.00000\n",
      "39  2/5  0.40000 0.00000\n",
      "40  4/5  0.80000 0.00000\n",
      "41  3/5  0.60001 0.00001\n",
      "42  1/5  0.20001 0.00001\n",
      "43  2/5  0.40002 0.00002\n",
      "44  4/5  0.80005 0.00005\n",
      "45  3/5  0.60010 0.00010\n",
      "46  1/5  0.20020 0.00020\n",
      "47  2/5  0.40039 0.00039\n",
      "48  4/5  0.80078 0.00078\n",
      "49  3/5  0.60156 0.00156\n",
      "50  1/5  0.20312 0.00312\n",
      "51  2/5  0.40625 0.00625\n",
      "52  4/5  0.81250 0.01250\n",
      "53  3/5  0.62500 0.02500\n",
      "54  1/5  0.25000 0.05000\n",
      "55  2/5  0.50000 0.10000\n",
      "56  4/5  1.00000 0.20000\n",
      "57  3/5  1.00000 0.40000\n",
      "58  1/5  1.00000 0.80000\n",
      "59  2/5  1.00000 0.60000\n",
      "60  4/5  1.00000 0.20000\n",
      "61  3/5  1.00000 0.40000\n",
      "62  1/5  1.00000 0.80000\n",
      "63  2/5  1.00000 0.60000\n",
      "64  4/5  1.00000 0.20000\n",
      "65  3/5  1.00000 0.40000\n",
      "66  1/5  1.00000 0.80000\n",
      "67  2/5  1.00000 0.60000\n",
      "68  4/5  1.00000 0.20000\n",
      "69  3/5  1.00000 0.40000\n",
      "70  1/5  1.00000 0.80000\n",
      "71  2/5  1.00000 0.60000\n",
      "72  4/5  1.00000 0.20000\n",
      "73  3/5  1.00000 0.40000\n",
      "74  1/5  1.00000 0.80000\n",
      "75  2/5  1.00000 0.60000\n",
      "76  4/5  1.00000 0.20000\n",
      "77  3/5  1.00000 0.40000\n",
      "78  1/5  1.00000 0.80000\n",
      "79  2/5  1.00000 0.60000\n",
      "80  4/5  1.00000 0.20000\n"
     ]
    }
   ],
   "source": [
    "index = 0\n",
    "for xfract,xfloat in zip(fract,floatValues):\n",
    "    index+=1\n",
    "    print(f\"{str(index):3} {str(xfract):4} {xfloat:.5f} {abs(xfract-xfloat):.5f}\")"
   ]
  },
  {
   "cell_type": "markdown",
   "id": "b0e0499f",
   "metadata": {},
   "source": [
    "L'esempio sopra mostra chiaramente come dalla iterazione 42 in poi l'errore diventi sempre più grande fino a diventare ingestibile, cosa è andato storto ?\n",
    "\n",
    "**La matematica è continua ed infinita, i computer sono discreti e finiti**\n",
    "\n",
    "Come funziona il salvataggio dei numeri reali in un computer?\n",
    "I numeri a virgola mobile sono composti da tre parti, segno mantissa ed esponente. La base si suppone sia sempre 2\n",
    "![float](./images/float.png)\n",
    "\n",
    "Prendiamo come esempio un numero a precisione doppia, il numero più grande che può essere rappresentato è $1.79 \\times 10^{308}$ il più piccolo è $2.23 \\times 10^{-308}$.\n",
    "\n",
    "La rappresentazione dei numeri non è equidistante qui un grafico che mostra come sono distribuiti i numeri:\n",
    "\n",
    "![scale](./images/fltscale-wh.png)\n",
    "\n",
    "### Epsilon di macchina\n",
    "\n",
    "Questo numero rappresenta lo scarto minimo rappresentabile. Se prendiamo due numeri $a$ e $b$ se eseguiamo il calcolo e otteniamo che $a - b < \\epsilon$ ecco questo è come scrivere che $a - b = 0$.\n",
    "\n",
    "La rappresentazione standard assume questo valore:\n",
    "\n",
    "$$\\varepsilon_{machine} = 2^{-53} \\approx 1.11 \\times 10^{-16}$$\n",
    "\n",
    "## Varie rappresentazioni\n",
    "\n",
    "Esistono rappresentazioni multiple in merito ai numeri reali ad esempio:\n",
    "* aritmetica a punto fisso\n",
    "* aritmetica logaritmica\n",
    "\n",
    "Per capirci esiste un [libro](https://perso.ens-lyon.fr/jean-michel.muller/chapitre1.pdf) con ben 16 capitoli che parla solo di questo.\n",
    "\n",
    "## Condizionamento e stabilità\n",
    "\n",
    "Visto che non possiamo rappresentare un numero esattamente in un computer è importante conoscere quanto una piccola perturbazione dell'input si ripercuote sull'output.\n",
    "\n",
    "Condizionamento: comportamento perturbativo di un problema matematico.\n",
    "Stabilità: comportamento perturbativo di un algoritmo usato per risolvere i problemi sul computer\n",
    "\n",
    "Esempio: autovalori di una matrice\n",
    "\n",
    "Le matrici A e B sono praticamente simili  "
   ]
  },
  {
   "cell_type": "code",
   "execution_count": 12,
   "id": "50860bb6",
   "metadata": {},
   "outputs": [
    {
     "name": "stdout",
     "output_type": "stream",
     "text": [
      "[[   1. 1000.]\n",
      " [   0.    1.]]\n",
      "[[1.e+00 1.e+03]\n",
      " [1.e-03 1.e+00]]\n"
     ]
    }
   ],
   "source": [
    "import scipy.linalg as la \n",
    "import numpy as np\n",
    "\n",
    "A = np.array([[1., 1000], [0, 1]])\n",
    "B = np.array([[1, 1000], [0.001, 1]])\n",
    "\n",
    "print(A)\n",
    "\n",
    "print(B)"
   ]
  },
  {
   "cell_type": "markdown",
   "id": "10953125",
   "metadata": {},
   "source": [
    "Questo comando è interessante in quanto impostiamo la visualizzazione a virgola fissa con una precisione a 4 cifre"
   ]
  },
  {
   "cell_type": "code",
   "execution_count": 13,
   "id": "c4f977e1",
   "metadata": {},
   "outputs": [],
   "source": [
    "np.set_printoptions(suppress=True, precision=4)"
   ]
  },
  {
   "cell_type": "code",
   "execution_count": 14,
   "id": "0ff28c5c",
   "metadata": {},
   "outputs": [
    {
     "data": {
      "text/plain": [
       "(array([1.+0.j, 1.+0.j]), array([ 2.+0.j, -0.+0.j]))"
      ]
     },
     "execution_count": 14,
     "metadata": {},
     "output_type": "execute_result"
    }
   ],
   "source": [
    "wA, vrA = la.eig(A)\n",
    "wB, vrB = la.eig(B)\n",
    "\n",
    "wA, wB"
   ]
  },
  {
   "cell_type": "markdown",
   "id": "e9b1d1ed",
   "metadata": {},
   "source": [
    "come si vede una piccola variazione comporta un grande cambiamento nel risultato.\n",
    "\n",
    "## Precisione di approssimazione\n",
    "\n",
    "E' raro che si abbia il bisogno di eseguire calcoli sulle matrice con precisione elevata su larga scala. In effetti quando si usano algoritmi di machine learning gli approcci meno accurati prevengono l'overfitting.\n",
    "\n",
    "Se accettiamo una accuratezza minore, possiamo aumentare la velocità di moltoe e/o diminuire l'uso della memoria usando algoritmi approssimati.\n",
    "Questi algoritmi tipicamente danno una risposta corretta con una certa probabilità. Lanciando più volte l'algoritmo possiamo generalemente incrementare la probabilità di ottenere un risultato corretto.\n",
    "\n",
    "Esempio: filtro di *Bloom* che usando poca memoria riesce a dire se un elemento appartiene o meno ad una collezione (usato nelle blockchain)\n",
    "\n",
    "## Errori costosi\n",
    "\n",
    "L'Agenzia spaziale europea spese 10 anni e 7 miliardi di dollari sul razzo Ariane 5.\n",
    "Questo è quello che succede quando si prova a adattare un numero a 64 bit a un numero a 16 bit (integer overflow):\n",
    "\n",
    "[![Ariane V](https://img.youtube.com/vi/PK_yguLapgA/0.jpg)](https://www.youtube.com/watch?v=PK_yguLapgA)\n",
    "\n",
    "Intel si è giocata 475 milioni di dollari per un errore di progettazione.\n",
    "\n",
    "## Uso della memoria\n",
    "\n",
    "Abbiamo parlato di come vengono salvati i numeri nella memoria ma ora è giunto il momento di parlare di come le matrici vengono salvate nella memoria.\n",
    "\n",
    "Osserviamo la matrice qui sotto notiamo subito una cosa, molti elementi hanno valore 0 e non ha senso usare memoria per loro.\n",
    "\n",
    "![sparse](./images/sparse.png)\n",
    "\n",
    "Salviamo dunque gli elementi non a zero (sparse storage), la matrice sopra è una **matrice sparsa**.\n",
    "\n",
    "## Vettorizzazione\n",
    "\n",
    "Le cpu moderne e le GPU possono eseguire operazioni su elementi multipli una volta sola su un singolo core. Questo è chiamato SIMD (Single Instruction stream, Multiple Data stream) ma invece di usare direttamente queste istruzioni le librerie come numpy usano delle api low level in particolare BLAS e LAPACK.\n",
    "\n",
    "### Pacchetti per il calcolo sulle matrici: BLAS e LAPACK\n",
    "BLAS (Basic Linear Algebra Subprograms): sono delle specifiche a basso livello per le operazioni su matrici e vettori. Queste sono i blocchi standard per eseguire operazioni di base su vettori e matrici.\n",
    "BLAS è nata come libreria Fortran nel 1979. Implementazioni di librerie BLAS sono MD Core Math Library (ACML), ATLAS, Intel Math Kernel Library (MKL) e OpenBLAS.\n",
    "\n",
    "LAPACK è scritto in Fortran, fornisce delle routine per risolvere sistemi di equazioni lineari, problemi su autovalori e problemi sui valori singoli. Fattorizzazioni di Matrici (LU, Cholescky, QR, SVD, Shur). \n",
    "\n",
    "## Località \n",
    "\n",
    "Usare metodi lenti per accedere ai dati (ad esempio usando internet) può essere un miliardo di volte più lento dei metodi più veloci (ad esempio usando i registri). Perciò vogliamo eseguire più operazioni possibili utilizzando i metodi veloci, non vogliamo continuare a caricare i dati da una memoria lenta a quella veloce. Vogliamo perciò dobbiamo provare ad usare i dati salvati vicino a quelli che andreamo ad utilizzare prossimamente.    \n",
    "\n",
    "\n",
    "## Temporizzazioni\n",
    "Il problema delle \"temporizzazioni\" avviene quando il risultato di un calcolo è salvato in una variabile temporanea della RAM per poi essere usata per eseguire un ulteriore calcolo. Sarebbe molto più efficace usare la cache o i registri tutt il tempo necessario per i calcoli e salvare il risultato nella ram.\n",
    "\n",
    "## Scalabilità\n",
    "\n",
    "Spesso scopriremo che abbiamo più dati che memoria, o tempo per il calcolo. In questo caso dovremmo poter scalare su più core o nodi.\n",
    "\n",
    "\n"
   ]
  },
  {
   "cell_type": "code",
   "execution_count": null,
   "id": "600e345b",
   "metadata": {},
   "outputs": [],
   "source": []
  }
 ],
 "metadata": {
  "kernelspec": {
   "display_name": "Python 3 (ipykernel)",
   "language": "python",
   "name": "python3"
  },
  "language_info": {
   "codemirror_mode": {
    "name": "ipython",
    "version": 3
   },
   "file_extension": ".py",
   "mimetype": "text/x-python",
   "name": "python",
   "nbconvert_exporter": "python",
   "pygments_lexer": "ipython3",
   "version": "3.9.7"
  }
 },
 "nbformat": 4,
 "nbformat_minor": 5
}
