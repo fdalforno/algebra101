{
 "cells": [
  {
   "cell_type": "markdown",
   "id": "a60537d1",
   "metadata": {},
   "source": [
    "Vediamo due strumenti importanti il primo [psutil](https://github.com/giampaolo/psutil) è molto utile per monitorare il consumo della ram"
   ]
  },
  {
   "cell_type": "code",
   "execution_count": 1,
   "id": "cddaee1f",
   "metadata": {},
   "outputs": [],
   "source": [
    "import psutil"
   ]
  },
  {
   "cell_type": "code",
   "execution_count": 2,
   "id": "117e1988",
   "metadata": {},
   "outputs": [],
   "source": [
    "import os\n",
    "\n",
    "process = psutil.Process(os.getpid())\n",
    "t = process.memory_info()"
   ]
  },
  {
   "cell_type": "code",
   "execution_count": 3,
   "id": "e337223c",
   "metadata": {},
   "outputs": [
    {
     "data": {
      "text/plain": [
       "(69566464, 66330624)"
      ]
     },
     "execution_count": 3,
     "metadata": {},
     "output_type": "execute_result"
    }
   ],
   "source": [
    "t.vms, t.rss"
   ]
  },
  {
   "cell_type": "code",
   "execution_count": 4,
   "id": "8d3b3098",
   "metadata": {},
   "outputs": [],
   "source": [
    "def mem_usage():\n",
    "    process = psutil.Process(os.getpid())\n",
    "    return process.memory_info().rss / psutil.virtual_memory().total"
   ]
  },
  {
   "cell_type": "code",
   "execution_count": 5,
   "id": "2484d153",
   "metadata": {},
   "outputs": [
    {
     "data": {
      "text/plain": [
       "0.007865596409392786"
      ]
     },
     "execution_count": 5,
     "metadata": {},
     "output_type": "execute_result"
    }
   ],
   "source": [
    "mem_usage()"
   ]
  },
  {
   "cell_type": "markdown",
   "id": "31899dbb",
   "metadata": {},
   "source": [
    "il secondo è [TQDM](https://github.com/tqdm/tqdm) che ci mette a disposizione una progress bar"
   ]
  },
  {
   "cell_type": "code",
   "execution_count": 6,
   "id": "6edef351",
   "metadata": {},
   "outputs": [],
   "source": [
    "from time import sleep"
   ]
  },
  {
   "cell_type": "code",
   "execution_count": 7,
   "id": "12a8aa11",
   "metadata": {},
   "outputs": [
    {
     "name": "stdout",
     "output_type": "stream",
     "text": [
      "45\n"
     ]
    }
   ],
   "source": [
    "s = 0\n",
    "for i in range(10):\n",
    "    s += i\n",
    "    sleep(0.2)\n",
    "print(s)"
   ]
  },
  {
   "cell_type": "code",
   "execution_count": 8,
   "id": "51311e30",
   "metadata": {},
   "outputs": [
    {
     "name": "stderr",
     "output_type": "stream",
     "text": [
      "100%|██████████████████████████████████████████████████████████████████████████████████| 10/10 [00:02<00:00,  4.59it/s]"
     ]
    },
    {
     "name": "stdout",
     "output_type": "stream",
     "text": [
      "45\n"
     ]
    },
    {
     "name": "stderr",
     "output_type": "stream",
     "text": [
      "\n"
     ]
    }
   ],
   "source": [
    "from tqdm import tqdm\n",
    "\n",
    "s = 0\n",
    "for i in tqdm(range(10)):\n",
    "    s += i\n",
    "    sleep(0.2)\n",
    "print(s)"
   ]
  },
  {
   "cell_type": "markdown",
   "id": "84926ab0",
   "metadata": {},
   "source": [
    "## Alcune applicazioni di SVD\n",
    "\n",
    "Alcuni studi interessanti che implicano l'uso di SVD sono ad esempio il debiasing del word-embeddings.\n",
    "\n",
    "Word2Vec è una libreria rilasciata da Google che permette di rappresentare le parole come vettori.\n",
    "La similitudine delle parole cattura il significato semantico, possiamo anche trovare analogie come Parigi -> Francia e Tokyo -> Giappone\n",
    "\n",
    "![word2vec](./images/word2vec_analogies.png)\n",
    "\n",
    "Tuttavia il metodo di embeddings non è esente da problemi, implicitamente codifica dei bias come ad esempio padre -> dottore, madre -> infermiera \n",
    "\n",
    "Un approccio per il debiasing coinvolge l'uso di svd per ridurre la dimensionalità\n",
    "\n",
    "### Modi di pensare circa SVD\n",
    "\n",
    "* Compressione dei dati\n",
    "* SVD scambia un numero elevato di features per un insieme più piccolo di features migliori\n",
    "* Tutte le matrici sono diagonali \n",
    "\n",
    "\n",
    "### Prospettive su SVD\n",
    "\n",
    "[Qui](https://www.frankcleary.com/svd/) una spiegazione di come funziona il sistema, parlando di SVD in termini di matrici sappiamo che una matrice $A$ può essere scomposta nel seguente modo:\n",
    "\n",
    "$$A = U \\Sigma V^T$$\n",
    "\n",
    "vediamo un esempio di scomposizione SVD su delle piccole matrici"
   ]
  },
  {
   "cell_type": "code",
   "execution_count": 9,
   "id": "d52edc65",
   "metadata": {},
   "outputs": [
    {
     "data": {
      "text/plain": [
       "array([[1, 0],\n",
       "       [1, 2]])"
      ]
     },
     "execution_count": 9,
     "metadata": {},
     "output_type": "execute_result"
    }
   ],
   "source": [
    "import numpy as np\n",
    "\n",
    "A = [[1,0],[1,2]]\n",
    "A = np.asarray(A)\n",
    "A"
   ]
  },
  {
   "cell_type": "code",
   "execution_count": 10,
   "id": "8b04a202",
   "metadata": {},
   "outputs": [
    {
     "name": "stdout",
     "output_type": "stream",
     "text": [
      "U = \n",
      "[[-0.23 -0.97]\n",
      " [-0.97  0.23]]\n",
      "sigma = \n",
      "[2.29 0.87]\n",
      "V = \n",
      "[[-0.53 -0.85]\n",
      " [-0.85  0.53]]\n"
     ]
    }
   ],
   "source": [
    "U, sigma, V = np.linalg.svd(A)\n",
    "print(\"U = \")\n",
    "print(np.round(U, decimals=2))\n",
    "\n",
    "print(\"sigma = \")\n",
    "print(np.round(sigma, decimals=2))\n",
    "\n",
    "print(\"V = \")\n",
    "print(np.round(V, decimals=2))"
   ]
  },
  {
   "cell_type": "code",
   "execution_count": 11,
   "id": "4fd1acd8",
   "metadata": {},
   "outputs": [
    {
     "data": {
      "text/plain": [
       "array([[ 1., -0.],\n",
       "       [ 1.,  2.]])"
      ]
     },
     "execution_count": 11,
     "metadata": {},
     "output_type": "execute_result"
    }
   ],
   "source": [
    "np.round(U @ np.diag(sigma) @ V,2)"
   ]
  },
  {
   "cell_type": "markdown",
   "id": "3baab415",
   "metadata": {},
   "source": [
    "possiamo vedere questa scomposizione anche in termine di vettori sapendo che $V^{-1} = V^T$ possiamo pensare che $V$ e $U$ siano una serie di vettori ortonormali tale per cui preso un vettore di indice j:\n",
    "\n",
    "$$Av_j = \\sigma_j u_j$$\n",
    "\n",
    "Dove $\\sigma_j$ è uno scalare chiamato anche valore singolare. Ricorda qualcosa ?\n",
    "\n",
    "**Relazione tra SVD e la scomposizione per autovalori** i valori dei vettori singolari di sinistra sono gli autovettori della matrice $AA^T$ mentre i vettori singolari della matrice di destra sono gli autovettori di $A^T A$ i valori singoli sono rappresentati dalla matrice quadrata degli autovalori di $A^T A$.\n",
    "\n",
    "La cosa più importante da ricordare è che non tutte le matrici hanno degli autovalori ma tutte le matrici hanno valori singoli\n",
    "Per ora dimentichiamoci pure di svd e concentriamoci su come calcolare di una matrice simmetrica positiva.\n",
    "\n",
    "Teniamo a mente che :\n",
    "* se A è simmetrica gli autovalori di A sono reali e possiamo ottenere una scomposizione tale che $A = Q \\Lambda Q^T$ \n",
    "* se A è triangolare i suoi autovalori sono \n"
   ]
  },
  {
   "cell_type": "code",
   "execution_count": 12,
   "id": "128340e0",
   "metadata": {},
   "outputs": [],
   "source": [
    "B = np.random.rand(3,2)"
   ]
  },
  {
   "cell_type": "code",
   "execution_count": 13,
   "id": "ac8874d8",
   "metadata": {},
   "outputs": [
    {
     "data": {
      "text/plain": [
       "array([[0.76443578, 0.22182332, 0.55251767],\n",
       "       [0.22182332, 0.92895796, 0.96546823],\n",
       "       [0.55251767, 0.96546823, 1.14912451]])"
      ]
     },
     "execution_count": 13,
     "metadata": {},
     "output_type": "execute_result"
    }
   ],
   "source": [
    "B @ B.T"
   ]
  },
  {
   "cell_type": "markdown",
   "id": "93769a43",
   "metadata": {},
   "source": [
    "## Il dataset DBPedia"
   ]
  },
  {
   "cell_type": "code",
   "execution_count": 27,
   "id": "719fef50",
   "metadata": {},
   "outputs": [
    {
     "name": "stdout",
     "output_type": "stream",
     "text": [
      "Ho caricato 517401 righe in 21.94 secondi\n"
     ]
    }
   ],
   "source": [
    "import pandas as pd\n",
    "import time\n",
    "\n",
    "start = time.time()\n",
    "df = pd.read_csv('./data/archive.zip')\n",
    "print(f\"Ho caricato {len(df)} righe in {(time.time() - start):.2f} secondi\") "
   ]
  },
  {
   "cell_type": "code",
   "execution_count": 28,
   "id": "72089df3",
   "metadata": {},
   "outputs": [
    {
     "data": {
      "text/plain": [
       "['Message-ID: <23831327.1075855692946.JavaMail.evans@thyme>',\n",
       " 'Date: Fri, 7 Jan 2000 16:23:00 -0800 (PST)',\n",
       " 'From: owner-strawbale@crest.org',\n",
       " 'Subject: ',\n",
       " 'Mime-Version: 1.0',\n",
       " 'Content-Type: text/plain; charset=us-ascii',\n",
       " 'Content-Transfer-Encoding: 7bit',\n",
       " 'X-From: owner-strawbale@crest.org',\n",
       " 'X-To: undisclosed-recipients:, ',\n",
       " 'X-cc: ',\n",
       " 'X-bcc: ',\n",
       " 'X-Folder: \\\\Phillip_Allen_Dec2000\\\\Notes Folders\\\\Straw',\n",
       " 'X-Origin: Allen-P',\n",
       " 'X-FileName: pallen.nsf',\n",
       " '',\n",
       " '<4DDE116DBCA1D3118B130080C840BAAD02CD53@ppims.Services.McMaster.CA>',\n",
       " 'From: \"Wesko, George\" <gwesko@PPIMS.SERVICES.MCMASTER.CA>',\n",
       " 'To: strawbale@crest.org',\n",
       " 'Subject: RADIANT HEATING',\n",
       " 'Date: Tue, 4 Jan 2000 11:28:29 -0500',\n",
       " 'MIME-Version: 1.0',\n",
       " 'X-Mailer: Internet Mail Service (5.5.2650.21)',\n",
       " 'Content-Type: multipart/alternative;',\n",
       " '------_=_NextPart_001_01BF56D0.C002317E',\n",
       " 'Content-Type: text/plain;',\n",
       " 'charset=\"iso-8859-1\"',\n",
       " 'Sender: owner-strawbale@crest.org',\n",
       " 'Precedence: bulk',\n",
       " '',\n",
       " '',\n",
       " 'There are a number of excellent sites for radiant heating, including the',\n",
       " 'magazine fine homebuilding June-July 1992 issue: the Radiant Panel',\n",
       " 'Association;  ASHRAE  Chapter 6;   Radiantec-Radiant heating system from',\n",
       " 'Radiantec;  the following web site:  http://www.twapanels.ca/heating',\n",
       " 'index.html',\n",
       " '',\n",
       " 'The above is a good start, and each of the sites have a number of good',\n",
       " 'links.  Let me know how you make out in your search.']"
      ]
     },
     "execution_count": 28,
     "metadata": {},
     "output_type": "execute_result"
    }
   ],
   "source": [
    "test_str = df['message'][3032]\n",
    "test_lines = test_str.splitlines()\n",
    "test_lines"
   ]
  },
  {
   "cell_type": "code",
   "execution_count": 29,
   "id": "4474d09e",
   "metadata": {},
   "outputs": [
    {
     "name": "stdout",
     "output_type": "stream",
     "text": [
      "From: owner-strawbale@crest.org\n"
     ]
    }
   ],
   "source": [
    "str_from = test_lines[2]\n",
    "print(str_from)"
   ]
  },
  {
   "cell_type": "code",
   "execution_count": 30,
   "id": "6a381ab8",
   "metadata": {},
   "outputs": [
    {
     "name": "stdout",
     "output_type": "stream",
     "text": [
      "Subject: \n"
     ]
    }
   ],
   "source": [
    "str_to = test_lines[3]\n",
    "print(str_to)"
   ]
  },
  {
   "cell_type": "code",
   "execution_count": 31,
   "id": "62b37d8f",
   "metadata": {},
   "outputs": [],
   "source": [
    "import re\n",
    "emails = re.findall(r\"[a-z0-9\\.\\-+_]+@[a-z0-9\\.\\-+_]+\\.[a-z]+\", str_to)"
   ]
  },
  {
   "cell_type": "code",
   "execution_count": 32,
   "id": "2f3e283a",
   "metadata": {},
   "outputs": [
    {
     "data": {
      "text/plain": [
       "[]"
      ]
     },
     "execution_count": 32,
     "metadata": {},
     "output_type": "execute_result"
    }
   ],
   "source": [
    "emails"
   ]
  },
  {
   "cell_type": "code",
   "execution_count": 33,
   "id": "15fdfc6c",
   "metadata": {},
   "outputs": [],
   "source": [
    "email_regex = r\"[a-z0-9\\.\\-+_]+@[a-z0-9\\.\\-+_]+\\.[a-z]+\"\n",
    "\n",
    "def extractEmails(text,index):\n",
    "    text_lines = text.splitlines()\n",
    "    str_from = text_lines[2]\n",
    "    str_to = text_lines[3]\n",
    "    email_from = re.findall(email_regex, str_from)\n",
    "    \n",
    "    if not email_from:\n",
    "        print(f\"Attenzione non ho trovato nessun mittente !! {str_from} indice {index}\")\n",
    "        email_from = ['']\n",
    "    \n",
    "    if len(email_from) > 1:\n",
    "        print(f\"Attenzione ho trovato più di un mittente !! !! {str_from} indice {index}\")\n",
    "    \n",
    "    email_from = email_from[0]\n",
    "    email_to = re.findall(email_regex, str_to)\n",
    "    \n",
    "    if not email_to:\n",
    "        email_to = ['']\n",
    "    \n",
    "    \n",
    "    \n",
    "    \n",
    "    return email_from.lower(),set([email.lower() for email in email_to])\n",
    "    \n",
    "    \n",
    "    \n",
    "    "
   ]
  },
  {
   "cell_type": "code",
   "execution_count": 34,
   "id": "11befc7e",
   "metadata": {},
   "outputs": [
    {
     "data": {
      "text/plain": [
       "('owner-strawbale@crest.org', {''})"
      ]
     },
     "execution_count": 34,
     "metadata": {},
     "output_type": "execute_result"
    }
   ],
   "source": [
    "extractEmails(test_str,1)"
   ]
  },
  {
   "cell_type": "code",
   "execution_count": 35,
   "id": "be7588d2",
   "metadata": {},
   "outputs": [
    {
     "data": {
      "application/vnd.jupyter.widget-view+json": {
       "model_id": "140a4f9e15c14480afac3a1518db172c",
       "version_major": 2,
       "version_minor": 0
      },
      "text/plain": [
       "0it [00:00, ?it/s]"
      ]
     },
     "metadata": {},
     "output_type": "display_data"
    },
    {
     "name": "stdout",
     "output_type": "stream",
     "text": [
      "Attenzione non ho trovato nessun mittente !! From: pep <performance.> indice 445288\n"
     ]
    }
   ],
   "source": [
    "from collections import defaultdict\n",
    "from tqdm.notebook import tqdm\n",
    "\n",
    "email_sender = defaultdict(lambda: defaultdict(int))\n",
    "\n",
    "for index, message in tqdm(df['message'].items(),total=len(df['message'])):\n",
    "    mail_from,mail_to = extractEmails(message,index)\n",
    "    for to in mail_to:\n",
    "        email_sender[mail_from][to] += 1\n",
    "    "
   ]
  },
  {
   "cell_type": "code",
   "execution_count": 37,
   "id": "8441350e",
   "metadata": {},
   "outputs": [],
   "source": [
    "del df"
   ]
  },
  {
   "cell_type": "code",
   "execution_count": 38,
   "id": "c6722661",
   "metadata": {},
   "outputs": [
    {
     "data": {
      "text/plain": [
       "0.18744149856689657"
      ]
     },
     "execution_count": 38,
     "metadata": {},
     "output_type": "execute_result"
    }
   ],
   "source": [
    "mem_usage()"
   ]
  },
  {
   "cell_type": "markdown",
   "id": "0cad415a",
   "metadata": {},
   "source": [
    "Dalla struttura dati sopra creiamo il grafo delle adiacenze, che indica chi ha scritto una mail a quale persona.\n",
    "per prima cosa creo un dataset con tutti gli indirizzi mail."
   ]
  },
  {
   "cell_type": "code",
   "execution_count": 59,
   "id": "45092779",
   "metadata": {},
   "outputs": [
    {
     "name": "stdout",
     "output_type": "stream",
     "text": [
      "35997\n"
     ]
    }
   ],
   "source": [
    "email_adress = set()\n",
    "\n",
    "for email in email_sender:\n",
    "    email_adress.add(email)\n",
    "    for email_sent in email_sender[email]:\n",
    "        email_adress.add(email_sent)\n",
    "\n",
    "print(len(email_adress))"
   ]
  },
  {
   "cell_type": "markdown",
   "id": "b79b61bc",
   "metadata": {},
   "source": [
    "Il grafo delle adiacenze avrà un arco da A verso B se una persona A ha scritto una mail alla persona B\n",
    "![grafo](./images/graph.png)\n",
    "\n",
    "con questo grafo in mente possiamo costruire una matrice di adiacenza che contiene il valore 1 sulla riga di indice A e sulla colonna di indice B"
   ]
  },
  {
   "cell_type": "code",
   "execution_count": 60,
   "id": "a4509a97",
   "metadata": {},
   "outputs": [],
   "source": [
    "test_address = 'anita.luong@enron.com'\n",
    "\n",
    "index_map = list(email_adress)\n",
    "index_map.index(test_address)\n",
    "n = len(index_map)"
   ]
  },
  {
   "cell_type": "code",
   "execution_count": 61,
   "id": "038a1b1d",
   "metadata": {},
   "outputs": [],
   "source": [
    "import pickle\n",
    "\n",
    "PATH = 'data/'\n",
    "pickle.dump(index_map, open(PATH+'index_map.pkl', 'wb'))"
   ]
  },
  {
   "cell_type": "code",
   "execution_count": 64,
   "id": "da8224ff",
   "metadata": {},
   "outputs": [
    {
     "data": {
      "application/vnd.jupyter.widget-view+json": {
       "model_id": "78969fa4764347219a7b7e08645b23ec",
       "version_major": 2,
       "version_minor": 0
      },
      "text/plain": [
       "  0%|          | 0/20312 [00:00<?, ?it/s]"
      ]
     },
     "metadata": {},
     "output_type": "display_data"
    }
   ],
   "source": [
    "from scipy import sparse\n",
    "\n",
    "rows = []\n",
    "cols = []\n",
    "data = []\n",
    "\n",
    "for email in  tqdm(email_sender):\n",
    "    row = index_map.index(email)\n",
    "    for email_sent in email_sender[email]:\n",
    "        col = index_map.index(email_sent)\n",
    "        rows.append(row)\n",
    "        cols.append(col)\n",
    "        data.append(1)"
   ]
  },
  {
   "cell_type": "code",
   "execution_count": 68,
   "id": "b73ec66a",
   "metadata": {},
   "outputs": [],
   "source": [
    "X = sparse.coo_matrix((data, (rows,cols)), shape=(n,n), dtype=np.float32)"
   ]
  },
  {
   "cell_type": "code",
   "execution_count": 69,
   "id": "3953d6fb",
   "metadata": {},
   "outputs": [],
   "source": [
    "del(data,rows,cols)"
   ]
  },
  {
   "cell_type": "code",
   "execution_count": 71,
   "id": "bbae695d",
   "metadata": {},
   "outputs": [],
   "source": [
    "pickle.dump(X, open(PATH+'X.pkl', 'wb'))"
   ]
  },
  {
   "cell_type": "code",
   "execution_count": 72,
   "id": "18ebf729",
   "metadata": {},
   "outputs": [],
   "source": [
    "def show_ex(v):\n",
    "    print(', '.join(index_map[i] for i in np.abs(v.squeeze()).argsort()[-1:-10:-1]))"
   ]
  },
  {
   "cell_type": "code",
   "execution_count": 91,
   "id": "32734923",
   "metadata": {},
   "outputs": [
    {
     "name": "stdout",
     "output_type": "stream",
     "text": [
      "Computing the principal singular vectors using randomized_svd\n",
      "done in 0.104s\n"
     ]
    }
   ],
   "source": [
    "from sklearn.decomposition import randomized_svd\n",
    "from pprint import pprint\n",
    "from time import time\n",
    "\n",
    "print(\"Computing the principal singular vectors using randomized_svd\")\n",
    "t0 = time()\n",
    "U, s, V = randomized_svd(X, 5, n_iter=3)\n",
    "print(\"done in %0.3fs\" % (time() - t0))\n"
   ]
  },
  {
   "cell_type": "code",
   "execution_count": 92,
   "id": "dbd58c45",
   "metadata": {},
   "outputs": [
    {
     "name": "stdout",
     "output_type": "stream",
     "text": [
      "tana.jones@enron.com, sara.shackleton@enron.com, louise.kitchen@enron.com, mark.taylor@enron.com, richard.sanders@enron.com, vince.kaminski@enron.com, jeff.dasovich@enron.com, sally.beck@enron.com, elizabeth.sager@enron.com\n",
      ", louise.kitchen@enron.com, john.lavorato@enron.com, tana.jones@enron.com, sara.shackleton@enron.com, greg.whalley@enron.com, mark.taylor@enron.com, sally.beck@enron.com, elizabeth.sager@enron.com\n"
     ]
    }
   ],
   "source": [
    "show_ex(U.T[0])\n",
    "show_ex(V[0])"
   ]
  },
  {
   "cell_type": "code",
   "execution_count": 96,
   "id": "a99e6653",
   "metadata": {},
   "outputs": [
    {
     "name": "stdout",
     "output_type": "stream",
     "text": [
      "Computing principal eigenvector score using a power iteration method\n",
      "Normalizing the graph\n",
      "power iteration #0\n",
      "error: 0.999055\n",
      "power iteration #1\n",
      "error: 0.911728\n",
      "power iteration #2\n",
      "error: 0.300302\n",
      "power iteration #3\n",
      "error: 0.093169\n",
      "power iteration #4\n",
      "error: 0.052141\n",
      "power iteration #5\n",
      "error: 0.028819\n",
      "power iteration #6\n",
      "error: 0.012735\n",
      "power iteration #7\n",
      "error: 0.010607\n",
      "power iteration #8\n",
      "error: 0.008847\n",
      "power iteration #9\n",
      "error: 0.007437\n",
      "power iteration #10\n",
      "error: 0.006263\n",
      "power iteration #11\n",
      "error: 0.005287\n",
      "power iteration #12\n",
      "error: 0.004468\n",
      "power iteration #13\n",
      "error: 0.003778\n",
      "power iteration #14\n",
      "error: 0.003196\n",
      "power iteration #15\n",
      "error: 0.002704\n",
      "power iteration #16\n",
      "error: 0.002288\n",
      "power iteration #17\n",
      "error: 0.001937\n",
      "power iteration #18\n",
      "error: 0.001639\n",
      "power iteration #19\n",
      "error: 0.001388\n",
      "power iteration #20\n",
      "error: 0.001174\n",
      "power iteration #21\n",
      "error: 0.000994\n",
      "power iteration #22\n",
      "error: 0.000841\n",
      "power iteration #23\n",
      "error: 0.000712\n",
      "power iteration #24\n",
      "error: 0.000603\n",
      "power iteration #25\n",
      "error: 0.000510\n",
      "power iteration #26\n",
      "error: 0.000432\n",
      "power iteration #27\n",
      "error: 0.000365\n",
      "power iteration #28\n",
      "error: 0.000310\n",
      "power iteration #29\n",
      "error: 0.000262\n",
      "power iteration #30\n",
      "error: 0.000222\n",
      "power iteration #31\n",
      "error: 0.000187\n",
      "power iteration #32\n",
      "error: 0.000159\n",
      "power iteration #33\n",
      "error: 0.000135\n",
      "power iteration #34\n",
      "error: 0.000113\n",
      "power iteration #35\n",
      "error: 0.000096\n",
      "power iteration #36\n",
      "error: 0.000081\n",
      "power iteration #37\n",
      "error: 0.000069\n",
      "power iteration #38\n",
      "error: 0.000058\n",
      "power iteration #39\n",
      "error: 0.000049\n",
      "power iteration #40\n",
      "error: 0.000042\n",
      "power iteration #41\n",
      "error: 0.000036\n",
      "power iteration #42\n",
      "error: 0.000030\n",
      "power iteration #43\n",
      "error: 0.000026\n",
      "power iteration #44\n",
      "error: 0.000021\n",
      "power iteration #45\n",
      "error: 0.000018\n",
      "power iteration #46\n",
      "error: 0.000015\n",
      "power iteration #47\n",
      "error: 0.000013\n",
      "power iteration #48\n",
      "error: 0.000011\n",
      "power iteration #49\n",
      "error: 0.000009\n",
      "power iteration #50\n",
      "error: 0.000008\n",
      "power iteration #51\n",
      "error: 0.000007\n",
      "power iteration #52\n",
      "error: 0.000006\n",
      "power iteration #53\n",
      "error: 0.000005\n",
      "power iteration #54\n",
      "error: 0.000004\n",
      "power iteration #55\n",
      "error: 0.000003\n",
      "done in 0.165s\n",
      "['john.griffith@enron.com',\n",
      " 'steven.kean@enron.com',\n",
      " 'michelle.cash@enron.com',\n",
      " 'kay.mann@enron.com',\n",
      " 'a..shankman@enron.com',\n",
      " 'louise@enron.com',\n",
      " 'chris.germany@enron.com',\n",
      " 'vkamins@enron.com',\n",
      " 'rick.buy@enron.com',\n",
      " 'j.kaminski@enron.com',\n",
      " 'rod.hayslett@enron.com',\n",
      " 'greg.whalley@enron.com',\n",
      " 'benjamin.rogers@enron.com',\n",
      " 'don.baughman@enron.com',\n",
      " 'vince.kaminski@enron.com',\n",
      " 'john.lavorato@enron.com',\n",
      " 'gerald.nemec@enron.com',\n",
      " 'mark.taylor@enron.com',\n",
      " 'jeff.dasovich@enron.com',\n",
      " 'emca@yahoogroups.com',\n",
      " 'sally.beck@enron.com',\n",
      " 'louise.kitchen@enron.com',\n",
      " 'tana.jones@enron.com',\n",
      " 'sara.shackleton@enron.com',\n",
      " 'skilling@enron.com',\n",
      " 'ebass@enron.com',\n",
      " 'kenneth.lay@enron.com',\n",
      " '',\n",
      " 'klay@enron.com',\n",
      " 'jeff.skilling@enron.com']\n"
     ]
    }
   ],
   "source": [
    "def centrality_scores(X, alpha=0.85, max_iter=100, tol=1e-10):\n",
    "    \"\"\"Power iteration computation of the principal eigenvector\n",
    "\n",
    "    This method is also known as Google PageRank and the implementation\n",
    "    is based on the one from the NetworkX project (BSD licensed too)\n",
    "    with copyrights by:\n",
    "\n",
    "      Aric Hagberg <hagberg@lanl.gov>\n",
    "      Dan Schult <dschult@colgate.edu>\n",
    "      Pieter Swart <swart@lanl.gov>\n",
    "    \"\"\"\n",
    "    n = X.shape[0]\n",
    "    X = X.copy()\n",
    "    incoming_counts = np.asarray(X.sum(axis=1)).ravel()\n",
    "\n",
    "    print(\"Normalizing the graph\")\n",
    "    for i in incoming_counts.nonzero()[0]:\n",
    "        X.data[X.indptr[i] : X.indptr[i + 1]] *= 1.0 / incoming_counts[i]\n",
    "    dangle = np.asarray(np.where(np.isclose(X.sum(axis=1), 0), 1.0 / n, 0)).ravel()\n",
    "\n",
    "    scores = np.full(n, 1.0 / n, dtype=np.float32)  # initial guess\n",
    "    for i in range(max_iter):\n",
    "        print(\"power iteration #%d\" % i)\n",
    "        prev_scores = scores\n",
    "        scores = (\n",
    "            alpha * (scores * X + np.dot(dangle, prev_scores))\n",
    "            + (1 - alpha) * prev_scores.sum() / n\n",
    "        )\n",
    "        # check convergence: normalized l_inf norm\n",
    "        scores_max = np.abs(scores).max()\n",
    "        if scores_max == 0.0:\n",
    "            scores_max = 1.0\n",
    "        err = np.abs(scores - prev_scores).max() / scores_max\n",
    "        print(\"error: %0.6f\" % err)\n",
    "        if err < n * tol:\n",
    "            return scores\n",
    "\n",
    "    return scores\n",
    "\n",
    "\n",
    "print(\"Computing principal eigenvector score using a power iteration method\")\n",
    "t0 = time()\n",
    "scores = centrality_scores(X.tocsr(), max_iter=100)\n",
    "print(\"done in %0.3fs\" % (time() - t0))\n",
    "pprint([index_map[i] for i in np.abs(scores).argsort()[-30:]])"
   ]
  },
  {
   "cell_type": "code",
   "execution_count": null,
   "id": "11bd00fe",
   "metadata": {},
   "outputs": [],
   "source": []
  }
 ],
 "metadata": {
  "kernelspec": {
   "display_name": "Python 3 (ipykernel)",
   "language": "python",
   "name": "python3"
  },
  "language_info": {
   "codemirror_mode": {
    "name": "ipython",
    "version": 3
   },
   "file_extension": ".py",
   "mimetype": "text/x-python",
   "name": "python",
   "nbconvert_exporter": "python",
   "pygments_lexer": "ipython3",
   "version": "3.9.7"
  }
 },
 "nbformat": 4,
 "nbformat_minor": 5
}
