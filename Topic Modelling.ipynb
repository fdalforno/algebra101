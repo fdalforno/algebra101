{
 "cells": [
  {
   "cell_type": "code",
   "execution_count": 1,
   "id": "cf8ceaf0",
   "metadata": {},
   "outputs": [],
   "source": [
    "import pandas as pd\n",
    "dataset = pd.read_csv('./data/APRILE-OTTOBRE 2021.csv',sep=\";\")  "
   ]
  },
  {
   "cell_type": "code",
   "execution_count": 2,
   "id": "36e72021",
   "metadata": {},
   "outputs": [
    {
     "data": {
      "text/plain": [
       "(144635, 159048)"
      ]
     },
     "execution_count": 2,
     "metadata": {},
     "output_type": "execute_result"
    }
   ],
   "source": [
    "from sklearn.feature_extraction.text import CountVectorizer, TfidfVectorizer\n",
    "\n",
    "oggetto = dataset['oggetto']\n",
    "\n",
    "vectorizer = CountVectorizer(strip_accents='unicode',max_df=0.6)\n",
    "vectors = vectorizer.fit_transform(oggetto) # (documents, vocab)\n",
    "vectors.shape"
   ]
  },
  {
   "cell_type": "code",
   "execution_count": 3,
   "id": "8c29ea31",
   "metadata": {},
   "outputs": [
    {
     "name": "stdout",
     "output_type": "stream",
     "text": [
      "test ok\n",
      "49405\n"
     ]
    }
   ],
   "source": [
    "import re\n",
    "\n",
    "clean_vocab = set()\n",
    "non_number_regex = \"^[a-zA-Z]+$\"\n",
    "\n",
    "if re.match(non_number_regex,'pippo'):\n",
    "    print(\"test ok\")\n",
    "\n",
    "for vocab in vectorizer.vocabulary_:\n",
    "    if re.match(non_number_regex,vocab):\n",
    "        clean_vocab.add(vocab)\n",
    "        \n",
    "print(len(clean_vocab))"
   ]
  },
  {
   "cell_type": "code",
   "execution_count": 4,
   "id": "fac5277d",
   "metadata": {},
   "outputs": [
    {
     "data": {
      "text/plain": [
       "(144635, 49405)"
      ]
     },
     "execution_count": 4,
     "metadata": {},
     "output_type": "execute_result"
    }
   ],
   "source": [
    "vectorizer = CountVectorizer(strip_accents='unicode',vocabulary = clean_vocab)\n",
    "vectors = vectorizer.fit_transform(oggetto) # (documents, vocab)\n",
    "vectors.shape"
   ]
  },
  {
   "cell_type": "code",
   "execution_count": 5,
   "id": "391d110a",
   "metadata": {},
   "outputs": [],
   "source": [
    "import numpy as np \n",
    "from sklearn import decomposition\n",
    "from scipy import linalg\n",
    "import matplotlib.pyplot as plt"
   ]
  },
  {
   "cell_type": "code",
   "execution_count": 6,
   "id": "10d51736",
   "metadata": {},
   "outputs": [],
   "source": [
    "%matplotlib inline\n",
    "np.set_printoptions(suppress=True)"
   ]
  },
  {
   "cell_type": "code",
   "execution_count": 7,
   "id": "c8576b6c",
   "metadata": {},
   "outputs": [
    {
     "name": "stderr",
     "output_type": "stream",
     "text": [
      "C:\\ProgramData\\Anaconda3\\lib\\site-packages\\sklearn\\decomposition\\_nmf.py:312: FutureWarning: The 'init' value, when 'init=None' and n_components is less than n_samples and n_features, will be changed from 'nndsvd' to 'nndsvda' in 1.1 (renaming of 0.26).\n",
      "  warnings.warn((\"The 'init' value, when 'init=None' and \"\n"
     ]
    }
   ],
   "source": [
    "d=8\n",
    "clf = decomposition.NMF(n_components=d, random_state=1)\n",
    "\n",
    "W1 = clf.fit_transform(vectors)\n",
    "H1 = clf.components_"
   ]
  },
  {
   "cell_type": "code",
   "execution_count": 8,
   "id": "b373a06f",
   "metadata": {},
   "outputs": [],
   "source": [
    "vocab = np.array(vectorizer.get_feature_names())"
   ]
  },
  {
   "cell_type": "code",
   "execution_count": 9,
   "id": "d1a7b153",
   "metadata": {},
   "outputs": [],
   "source": [
    "num_top_words=30\n",
    "\n",
    "def show_topics(a):\n",
    "    top_words = lambda t: [vocab[i] for i in np.argsort(t)[:-num_top_words-1:-1]]\n",
    "    topic_words = ([top_words(t) for t in a])\n",
    "    return [' '.join(t) for t in topic_words]"
   ]
  },
  {
   "cell_type": "code",
   "execution_count": 10,
   "id": "815826e8",
   "metadata": {},
   "outputs": [
    {
     "data": {
      "text/plain": [
       "['sinistro apertura vs rif denuncia stradale polizza del ns al re via ore assicurazioni sollecito relativa tg danneggiato assicurato rca avvenuto circa comunicazione numero cristalli comunicazioni relative documentazione fwd fw',\n",
       " 'di per invito negoziazione assistita polizza alla societa convenzione art ex la assicurazione cattolica con registro avviso atto liquidazione ufficiale stipula al comunicazione entrate assicurazioni lettera una provvedimento personale il',\n",
       " 'richiesta danni risarcimento per materiali sig stradale ex lgs sx da tg art il lesioni fisici cose srl documentazione ra contestuale ns fw reiterazione rif sollecito giustificativa indennizzo conferma maria',\n",
       " 'del sin sx sig tg rif srl danneggiato credito prot ore nr veicolo per carrozzeria via cessione ra cessionaria danno targato conducente art rca proprietario assistita atti assicurato alla lgs',\n",
       " 'ai sensi della notificazione legge art notifica dell del citazione atto bis lgs degli eseguita per civile modifiche decreto successive gennaio ex artt stipula proposta tribunale amministrativa pace convenzione effetti',\n",
       " 'in mora messa via costituzione ore per sig data circa lettera avvenuto il occorso tg diffida con alle ra dell stradale la alla della veicolo al atto assicurato risarcimento ns',\n",
       " 'veicolo targa sinistro riferimento sa sped iter del sollecito vs risarcimento numero protocollo richiesta conoscenza per responsabile giustificativa reiterazione civile documentazione integrazione assicurato targato riscontro alla vostra cliente danneggiato con',\n",
       " 'ass cattolica ni sin rif tg tua spa assicurazioni soc vs societa polizza coop ns assicurato unipolsai srl allianz targa assicurazione ne to veicolo carrozzeria ta italia danneggiato responsabile generali']"
      ]
     },
     "execution_count": 10,
     "metadata": {},
     "output_type": "execute_result"
    }
   ],
   "source": [
    "show_topics(H1)"
   ]
  },
  {
   "cell_type": "code",
   "execution_count": 11,
   "id": "b9ce5cc9",
   "metadata": {},
   "outputs": [],
   "source": [
    "vectorizer_tfidf = TfidfVectorizer(strip_accents='unicode',vocabulary = clean_vocab)\n",
    "vectors_tfidf = vectorizer_tfidf.fit_transform(oggetto)"
   ]
  },
  {
   "cell_type": "code",
   "execution_count": 12,
   "id": "33af16cf",
   "metadata": {},
   "outputs": [
    {
     "name": "stderr",
     "output_type": "stream",
     "text": [
      "C:\\ProgramData\\Anaconda3\\lib\\site-packages\\sklearn\\decomposition\\_nmf.py:312: FutureWarning: The 'init' value, when 'init=None' and n_components is less than n_samples and n_features, will be changed from 'nndsvd' to 'nndsvda' in 1.1 (renaming of 0.26).\n",
      "  warnings.warn((\"The 'init' value, when 'init=None' and \"\n"
     ]
    }
   ],
   "source": [
    "W1 = clf.fit_transform(vectors_tfidf)\n",
    "H1 = clf.components_"
   ]
  },
  {
   "cell_type": "code",
   "execution_count": 13,
   "id": "7d612e7b",
   "metadata": {},
   "outputs": [
    {
     "data": {
      "text/plain": [
       "['sped iter riferimento sa targa veicolo sollecito sinistro vs protocollo del numero risarcimento conoscenza richiesta per responsabile civile giustificativa reiterazione documentazione integrazione vostra riscontro cristalli targato cliente assicurato alla indicazione',\n",
       " 'sensi ai notificazione legge della del notifica art di bis dell citazione atto ex eseguita lgs giudice pace gennaio modifiche tribunale successive nt ordinario convenzione degli cattolica per atti mezzo',\n",
       " 'danni richiesta risarcimento di materiali per stradale da sx ex lgs sig art sollecito cose del lesioni fisici fw il tg contestuale ra documentazione ns fwd srl indennizzo dei integrazione',\n",
       " 'sinistro del apertura denuncia stradale numero rca comunicazioni relative cristalli tg al relativa re sig danneggiato richiesta vs comunicazione nr per danno fw srl targa ore sollecito cattolica prot polizza',\n",
       " 'polizza disdetta re assicurativa polizze nr numero assicurazione infortuni contratto scadenza di tua comunicazione conferma fw richiesta riscatto casa vita fwd recesso svincolo cattolica assicurazioni invio su salute denuncia contraente',\n",
       " 'mora in messa di costituzione lettera diffida per atto invito negoziazione assistita spa sig cotral ex alla cattolica art ass invio ni via convenzione ore stradale data contestuale con avvenuto',\n",
       " 'registro entrate ufficiale liquidazione avviso riservata giudiziario provvedimento personale di agedp vr invito ce negoziazione assistita comunicazione convenzione ct danno societa alla pa assicurazione per iva stipula conferma atto sa',\n",
       " 'sin rif ns del cattolica vs ass sx di ni inail comunicazione negoziazione assistita tg riferimenti nostri assicurazioni invito spa tua it pomplus atti accesso srl agli alla societa cliente']"
      ]
     },
     "execution_count": 13,
     "metadata": {},
     "output_type": "execute_result"
    }
   ],
   "source": [
    "show_topics(H1)"
   ]
  },
  {
   "cell_type": "code",
   "execution_count": 14,
   "id": "065b9a6e",
   "metadata": {},
   "outputs": [
    {
     "data": {
      "text/plain": [
       "[<matplotlib.lines.Line2D at 0x2c15ad371f0>]"
      ]
     },
     "execution_count": 14,
     "metadata": {},
     "output_type": "execute_result"
    },
    {
     "data": {
      "image/png": "[encoded data removed]",
      "text/plain": [
       "<Figure size 432x288 with 1 Axes>"
      ]
     },
     "metadata": {
      "needs_background": "light"
     },
     "output_type": "display_data"
    }
   ],
   "source": [
    "plt.plot(clf.components_[0])"
   ]
  },
  {
   "cell_type": "code",
   "execution_count": 15,
   "id": "9e4a97a6",
   "metadata": {},
   "outputs": [
    {
     "data": {
      "text/plain": [
       "['richiesta',\n",
       " 'conoscenza',\n",
       " 'risarcimento',\n",
       " 'numero',\n",
       " 'del',\n",
       " 'protocollo',\n",
       " 'vs',\n",
       " 'sinistro',\n",
       " 'sollecito',\n",
       " 'veicolo',\n",
       " 'targa',\n",
       " 'sa',\n",
       " 'riferimento',\n",
       " 'iter',\n",
       " 'sped']"
      ]
     },
     "execution_count": 15,
     "metadata": {},
     "output_type": "execute_result"
    }
   ],
   "source": [
    "indices = np.argsort(clf.components_[0])\n",
    "[vocab[i] for i in indices[-15:]]"
   ]
  },
  {
   "cell_type": "code",
   "execution_count": 16,
   "id": "3512afcd",
   "metadata": {},
   "outputs": [
    {
     "data": {
      "text/plain": [
       "347.1326727052627"
      ]
     },
     "execution_count": 16,
     "metadata": {},
     "output_type": "execute_result"
    }
   ],
   "source": [
    "clf.reconstruction_err_"
   ]
  },
  {
   "cell_type": "code",
   "execution_count": 17,
   "id": "d16e8c10",
   "metadata": {},
   "outputs": [],
   "source": [
    "topic = np.argmax(W1, axis=1)\n",
    "dataset['topic'] = topic"
   ]
  },
  {
   "cell_type": "code",
   "execution_count": 24,
   "id": "65c1fb9f",
   "metadata": {},
   "outputs": [
    {
     "name": "stdout",
     "output_type": "stream",
     "text": [
      "'POSTA CERTIFICATA: Richiesta chiarimenti riscatto polizza'\n"
     ]
    }
   ],
   "source": [
    "import pprint\n",
    "doc_index = 15\n",
    "pprint.pprint(dataset.iloc[doc_index]['oggetto'])\n",
    "\n",
    "\n",
    "#vectors_tfidf"
   ]
  },
  {
   "cell_type": "code",
   "execution_count": 25,
   "id": "71e25f70",
   "metadata": {},
   "outputs": [],
   "source": [
    "def sort_coo(coo_matrix):\n",
    "    tuples = zip(coo_matrix.col,coo_matrix.data)\n",
    "    return sorted(tuples,key=lambda x: (x[1],x[0]),reverse=True)"
   ]
  },
  {
   "cell_type": "code",
   "execution_count": 26,
   "id": "caa3899f",
   "metadata": {},
   "outputs": [
    {
     "data": {
      "text/plain": [
       "[(10284, 0.6829812436896741),\n",
       " (38440, 0.6220249033415959),\n",
       " (35358, 0.31986426181878785),\n",
       " (38035, 0.21049582989243848)]"
      ]
     },
     "execution_count": 26,
     "metadata": {},
     "output_type": "execute_result"
    }
   ],
   "source": [
    "sort_coo(vectors_tfidf[doc_index].tocoo())"
   ]
  },
  {
   "cell_type": "code",
   "execution_count": 27,
   "id": "a90c19b2",
   "metadata": {},
   "outputs": [],
   "source": [
    "def extract_topn_from_matrix(features_names,sorted_items,topn=10):\n",
    "    result = {}\n",
    "    for idx,score in sorted_items[:topn]:\n",
    "        word = features_names[idx]\n",
    "        result[word] = round(score,3)\n",
    "    return result"
   ]
  },
  {
   "cell_type": "code",
   "execution_count": 28,
   "id": "ebcec02e",
   "metadata": {},
   "outputs": [],
   "source": [
    "keywords = extract_topn_from_matrix(vocab,sort_coo(vectors_tfidf[doc_index].tocoo()))"
   ]
  },
  {
   "cell_type": "code",
   "execution_count": 29,
   "id": "c323d698",
   "metadata": {},
   "outputs": [
    {
     "name": "stdout",
     "output_type": "stream",
     "text": [
      "{'chiarimenti': 0.683, 'polizza': 0.32, 'richiesta': 0.21, 'riscatto': 0.622}\n"
     ]
    }
   ],
   "source": [
    "pprint.pprint(keywords)"
   ]
  },
  {
   "cell_type": "code",
   "execution_count": null,
   "id": "b3a5fb16",
   "metadata": {},
   "outputs": [],
   "source": []
  }
 ],
 "metadata": {
  "kernelspec": {
   "display_name": "Python 3 (ipykernel)",
   "language": "python",
   "name": "python3"
  },
  "language_info": {
   "codemirror_mode": {
    "name": "ipython",
    "version": 3
   },
   "file_extension": ".py",
   "mimetype": "text/x-python",
   "name": "python",
   "nbconvert_exporter": "python",
   "pygments_lexer": "ipython3",
   "version": "3.9.7"
  }
 },
 "nbformat": 4,
 "nbformat_minor": 5
}
