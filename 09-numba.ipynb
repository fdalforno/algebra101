{
 "cells": [
  {
   "cell_type": "markdown",
   "id": "4a401057",
   "metadata": {},
   "source": [
    "## Regressione lineare\n",
    "\n",
    "Consideriamo un sistema $X\\beta = y$ dove $X$ ha più righe che colonne. \n",
    "Questo accade quando abbiamo più campioni che variabili. Il nostro obiettivo è trovare $\\hat{\\beta}$ che minimizzi:\n",
    "$$\\big\\vert\\big\\vert X\\beta - y \\big\\vert\\big\\vert_2$$"
   ]
  },
  {
   "cell_type": "code",
   "execution_count": 1,
   "id": "c5c33d33",
   "metadata": {},
   "outputs": [],
   "source": [
    "from sklearn import datasets, linear_model, metrics\n",
    "from sklearn.model_selection import train_test_split\n",
    "from sklearn.preprocessing import PolynomialFeatures\n",
    "import math, scipy, numpy as np\n",
    "from scipy import linalg\n",
    "\n",
    "data = datasets.load_diabetes()"
   ]
  },
  {
   "cell_type": "code",
   "execution_count": 2,
   "id": "c3dc7ebe",
   "metadata": {},
   "outputs": [],
   "source": [
    "feature_names=['age', 'sex', 'bmi', 'bp', 's1', 's2', 's3', 's4', 's5', 's6']\n",
    "trn,test,y_trn,y_test = train_test_split(data.data, data.target, test_size=0.2)"
   ]
  },
  {
   "cell_type": "markdown",
   "id": "6906482c",
   "metadata": {},
   "source": [
    "iniziamo a trovare una soluzione con sklearn"
   ]
  },
  {
   "cell_type": "code",
   "execution_count": 3,
   "id": "55f80166",
   "metadata": {},
   "outputs": [
    {
     "name": "stdout",
     "output_type": "stream",
     "text": [
      "686 µs ± 19.8 µs per loop (mean ± std. dev. of 7 runs, 1000 loops each)\n"
     ]
    }
   ],
   "source": [
    "regr = linear_model.LinearRegression()\n",
    "%timeit regr.fit(trn, y_trn)"
   ]
  },
  {
   "cell_type": "code",
   "execution_count": 4,
   "id": "161d5858",
   "metadata": {},
   "outputs": [],
   "source": [
    "pred = regr.predict(test)"
   ]
  },
  {
   "cell_type": "markdown",
   "id": "973e36e2",
   "metadata": {},
   "source": [
    "valutiamo la metrica della soluzione"
   ]
  },
  {
   "cell_type": "code",
   "execution_count": 5,
   "id": "46228c52",
   "metadata": {},
   "outputs": [],
   "source": [
    "def regr_metrics(act, pred):\n",
    "    return (math.sqrt(metrics.mean_squared_error(act, pred)), \n",
    "     metrics.mean_absolute_error(act, pred))"
   ]
  },
  {
   "cell_type": "code",
   "execution_count": 6,
   "id": "ebf64056",
   "metadata": {},
   "outputs": [
    {
     "data": {
      "text/plain": [
       "(51.05511944046453, 40.29588998594346)"
      ]
     },
     "execution_count": 6,
     "metadata": {},
     "output_type": "execute_result"
    }
   ],
   "source": [
    "regr_metrics(y_test, regr.predict(test))"
   ]
  },
  {
   "cell_type": "markdown",
   "id": "2be25801",
   "metadata": {},
   "source": [
    "# Features polinomiali\n",
    "\n",
    "La regressione lineare calcola i coefficienti $\\beta_i$ per:\n",
    "\n",
    "$$x_0\\beta_0 + x_1\\beta_1 + x_2\\beta_2 = y$$\n",
    "\n",
    "Aggiungere delle features polinomiali resta ancora un problema di regressione lineare ma con più termini:\n",
    "\n",
    "$$x_0\\beta_0 + x_1\\beta_1 + x_2\\beta_2 + x_0^2\\beta_3 + x_0 x_1\\beta_4 + x_0 x_2\\beta_5 + x_1^2\\beta_6 + x_1 x_2\\beta_7 + x_2^2\\beta_8 = y$$\n",
    "\n",
    "\n",
    "Utilizziamo la matrice originale $X$ per calcolare le features aggiuntive:\n"
   ]
  },
  {
   "cell_type": "code",
   "execution_count": 7,
   "id": "e583bae7",
   "metadata": {},
   "outputs": [
    {
     "data": {
      "text/plain": [
       "(353, 10)"
      ]
     },
     "execution_count": 7,
     "metadata": {},
     "output_type": "execute_result"
    }
   ],
   "source": [
    "trn.shape"
   ]
  },
  {
   "cell_type": "markdown",
   "id": "88b3c337",
   "metadata": {},
   "source": [
    "Aggiungiamo ora le features polinomiali"
   ]
  },
  {
   "cell_type": "code",
   "execution_count": 9,
   "id": "c1a322c2",
   "metadata": {},
   "outputs": [],
   "source": [
    "poly = PolynomialFeatures(include_bias=False)\n",
    "trn_feat = poly.fit_transform(trn)"
   ]
  },
  {
   "cell_type": "code",
   "execution_count": 10,
   "id": "bb1ab840",
   "metadata": {},
   "outputs": [
    {
     "data": {
      "text/plain": [
       "'age, sex, bmi, bp, s1, s2, s3, s4, s5, s6, age^2, age sex, age bmi, age bp, age s1, age s2, age s3, age s4, age s5, age s6, sex^2, sex bmi, sex bp, sex s1, sex s2, sex s3, sex s4, sex s5, sex s6, bmi^2, bmi bp, bmi s1, bmi s2, bmi s3, bmi s4, bmi s5, bmi s6, bp^2, bp s1, bp s2, bp s3, bp s4, bp s5, bp s6, s1^2, s1 s2, s1 s3, s1 s4, s1 s5, s1 s6, s2^2, s2 s3, s2 s4, s2 s5, s2 s6, s3^2, s3 s4, s3 s5, s3 s6, s4^2, s4 s5, s4 s6, s5^2, s5 s6, s6^2'"
      ]
     },
     "execution_count": 10,
     "metadata": {},
     "output_type": "execute_result"
    }
   ],
   "source": [
    "', '.join(poly.get_feature_names(feature_names))"
   ]
  },
  {
   "cell_type": "code",
   "execution_count": 11,
   "id": "1069f775",
   "metadata": {},
   "outputs": [
    {
     "data": {
      "text/plain": [
       "(353, 65)"
      ]
     },
     "execution_count": 11,
     "metadata": {},
     "output_type": "execute_result"
    }
   ],
   "source": [
    "trn_feat.shape"
   ]
  },
  {
   "cell_type": "code",
   "execution_count": 12,
   "id": "047a8751",
   "metadata": {},
   "outputs": [
    {
     "data": {
      "text/plain": [
       "LinearRegression()"
      ]
     },
     "execution_count": 12,
     "metadata": {},
     "output_type": "execute_result"
    }
   ],
   "source": [
    "regr.fit(trn_feat, y_trn)"
   ]
  },
  {
   "cell_type": "code",
   "execution_count": 13,
   "id": "033d18f2",
   "metadata": {},
   "outputs": [
    {
     "data": {
      "text/plain": [
       "(58.2390905798078, 45.1230598096478)"
      ]
     },
     "execution_count": 13,
     "metadata": {},
     "output_type": "execute_result"
    }
   ],
   "source": [
    "regr_metrics(y_test, regr.predict(poly.fit_transform(test)))"
   ]
  },
  {
   "cell_type": "code",
   "execution_count": 14,
   "id": "5d823fb3",
   "metadata": {},
   "outputs": [
    {
     "name": "stdout",
     "output_type": "stream",
     "text": [
      "315 µs ± 35.5 µs per loop (mean ± std. dev. of 7 runs, 1000 loops each)\n"
     ]
    }
   ],
   "source": [
    "%timeit poly.fit_transform(trn)"
   ]
  },
  {
   "cell_type": "markdown",
   "id": "03d04e3d",
   "metadata": {},
   "source": [
    "## Implementazione della generazione delle features\n",
    "\n",
    "Per l'implementazione della generazione delle features andremo ad usare [numba](http://numba.pydata.org/numba-doc/0.12.2/tutorial_firststeps.html) che si occupa di andare a creare del codice c partendo dal nostro codice python in maniera efficiente.\n",
    "\n"
   ]
  },
  {
   "cell_type": "code",
   "execution_count": 15,
   "id": "ccac4737",
   "metadata": {},
   "outputs": [
    {
     "name": "stdout",
     "output_type": "stream",
     "text": [
      "0.54.1\n"
     ]
    }
   ],
   "source": [
    "import numba\n",
    "print(numba.__version__)"
   ]
  },
  {
   "cell_type": "markdown",
   "id": "a33ff1ef",
   "metadata": {},
   "source": [
    "**numba** è un compilatore\n",
    "\n",
    "### espertimenti con vettorizzazione e codice nativo\n",
    "\n",
    "creiamo come primo esperimento la generazione di features  "
   ]
  },
  {
   "cell_type": "code",
   "execution_count": 16,
   "id": "863d5a3a",
   "metadata": {},
   "outputs": [],
   "source": [
    "%matplotlib inline"
   ]
  },
  {
   "cell_type": "code",
   "execution_count": 18,
   "id": "84fa825e",
   "metadata": {},
   "outputs": [],
   "source": [
    "import math, numpy as np\n",
    "import matplotlib.pyplot as plt\n",
    "from scipy import ndimage"
   ]
  },
  {
   "cell_type": "code",
   "execution_count": 19,
   "id": "bcf8c24d",
   "metadata": {},
   "outputs": [],
   "source": [
    "from numba import jit, vectorize, guvectorize, cuda, float32, void, float64"
   ]
  },
  {
   "cell_type": "markdown",
   "id": "3bcf8f6d",
   "metadata": {},
   "source": [
    "Vedremo l'impatto di:\n",
    "\n",
    "\n",
    "* evitare di allocare e copiare i dati\n",
    "* allocazione della memoria efficiente\n",
    "* vettorizzazione\n",
    "\n",
    "Se usiamo **numpy** su interi array alla volta, creiamo un sacco di variabili temporanee, e non usiamo la cache.\n",
    "Se usassimo **numba** per iterare un elemento alla volta non dovremmo allocare grandi array temporanei, possiamo riutilizzare i dati in cache.\n",
    "\n",
    "Creiamo una funzione non ottimizzata"
   ]
  },
  {
   "cell_type": "code",
   "execution_count": 20,
   "id": "d5000ed7",
   "metadata": {},
   "outputs": [],
   "source": [
    "# Untype and Unvectorized\n",
    "def proc_python(xx,yy):\n",
    "    zz = np.zeros(nobs, dtype='float32')\n",
    "    for j in range(nobs):   \n",
    "        x, y = xx[j], yy[j] \n",
    "        x = x*2 - ( y * 55 )\n",
    "        y = x + y*2         \n",
    "        z = x + y + 99      \n",
    "        z = z * ( z - .88 ) \n",
    "        zz[j] = z           \n",
    "    return zz"
   ]
  },
  {
   "cell_type": "code",
   "execution_count": 21,
   "id": "f3afa49f",
   "metadata": {},
   "outputs": [],
   "source": [
    "nobs = 10000\n",
    "x = np.random.randn(nobs).astype('float32')\n",
    "y = np.random.randn(nobs).astype('float32')"
   ]
  },
  {
   "cell_type": "code",
   "execution_count": 22,
   "id": "9a9e2339",
   "metadata": {},
   "outputs": [
    {
     "name": "stdout",
     "output_type": "stream",
     "text": [
      "86.3 ms ± 7.19 ms per loop (mean ± std. dev. of 7 runs, 10 loops each)\n"
     ]
    }
   ],
   "source": [
    "%timeit proc_python(x,y)   # Untyped and unvectorized"
   ]
  },
  {
   "cell_type": "markdown",
   "id": "28013d9a",
   "metadata": {},
   "source": [
    "### Numpy\n",
    "\n",
    "Eseguiamo lo stesso calcolo con numpy "
   ]
  },
  {
   "cell_type": "code",
   "execution_count": 23,
   "id": "15eee8fd",
   "metadata": {},
   "outputs": [],
   "source": [
    "# Typed and Vectorized\n",
    "def proc_numpy(x,y):\n",
    "    z = np.zeros(nobs, dtype='float32')\n",
    "    x = x*2 - ( y * 55 )\n",
    "    y = x + y*2         \n",
    "    z = x + y + 99      \n",
    "    z = z * ( z - .88 ) \n",
    "    return z"
   ]
  },
  {
   "cell_type": "code",
   "execution_count": 24,
   "id": "88dacf3f",
   "metadata": {},
   "outputs": [
    {
     "name": "stdout",
     "output_type": "stream",
     "text": [
      "38.4 µs ± 3.35 µs per loop (mean ± std. dev. of 7 runs, 10000 loops each)\n"
     ]
    }
   ],
   "source": [
    "%timeit proc_numpy(x,y)    # Typed and vectorized"
   ]
  },
  {
   "cell_type": "markdown",
   "id": "3b554f2d",
   "metadata": {},
   "source": [
    "Vediamo un netto miglioramento nei tempi di calcolo"
   ]
  },
  {
   "cell_type": "code",
   "execution_count": 25,
   "id": "69799c72",
   "metadata": {},
   "outputs": [
    {
     "data": {
      "text/plain": [
       "True"
      ]
     },
     "execution_count": 25,
     "metadata": {},
     "output_type": "execute_result"
    }
   ],
   "source": [
    "np.allclose( proc_numpy(x,y), proc_python(x,y), atol=1e-4 )"
   ]
  },
  {
   "cell_type": "markdown",
   "id": "683059b5",
   "metadata": {},
   "source": [
    "### Numba\n",
    "\n",
    "Numba offre alcuni decoratori. Ne useremo due differenti:\n",
    "\n",
    "* @jit: molto generale\n",
    "* @vectorize: non serve scrivere particolari loop. molto utile quando si sta lavorando con vettori della stessa dimensione\n",
    "\n",
    "Primo, useremo Numba come Jit (just in time) senza una vettorizzazione esplicita.\n",
    "Eviteremo un grande uso di memoria avremo un migliore uso di località: "
   ]
  },
  {
   "cell_type": "code",
   "execution_count": 26,
   "id": "a593f842",
   "metadata": {},
   "outputs": [],
   "source": [
    "@jit()\n",
    "def proc_numba(xx,yy):\n",
    "    zz = np.zeros(nobs, dtype='float32')\n",
    "    for j in range(nobs):   \n",
    "        x, y = xx[j], yy[j] \n",
    "        x = x*2 - ( y * 55 )\n",
    "        y = x + y*2         \n",
    "        z = x + y + 99      \n",
    "        z = z * ( z - .88 ) \n",
    "        zz[j] = z           \n",
    "    return zz"
   ]
  },
  {
   "cell_type": "code",
   "execution_count": 27,
   "id": "75fac28b",
   "metadata": {},
   "outputs": [
    {
     "name": "stdout",
     "output_type": "stream",
     "text": [
      "21.4 µs ± 11.2 µs per loop (mean ± std. dev. of 7 runs, 1 loop each)\n"
     ]
    }
   ],
   "source": [
    "%timeit proc_numba(x,y)"
   ]
  },
  {
   "cell_type": "markdown",
   "id": "f4d665c0",
   "metadata": {},
   "source": [
    "notiamo subito un incremento di velocità, proviamo ora la versione vettorizzata"
   ]
  },
  {
   "cell_type": "code",
   "execution_count": 28,
   "id": "7ce4e92e",
   "metadata": {},
   "outputs": [],
   "source": [
    "@vectorize\n",
    "def vec_numba(x,y):\n",
    "    x = x*2 - ( y * 55 )\n",
    "    y = x + y*2         \n",
    "    z = x + y + 99      \n",
    "    return z * ( z - .88 ) "
   ]
  },
  {
   "cell_type": "code",
   "execution_count": 29,
   "id": "8f98c81e",
   "metadata": {},
   "outputs": [
    {
     "name": "stdout",
     "output_type": "stream",
     "text": [
      "6.55 µs ± 389 ns per loop (mean ± std. dev. of 7 runs, 100000 loops each)\n"
     ]
    }
   ],
   "source": [
    "%timeit vec_numba(x,y)"
   ]
  },
  {
   "cell_type": "markdown",
   "id": "7e98dc45",
   "metadata": {},
   "source": [
    "vediamo che la velocità è incrementata considerevolmente anche rispetto al codice numpy.\n",
    "\n",
    "Utilizziamo ora numba per fare i calcoli delle features polinomiali\n"
   ]
  },
  {
   "cell_type": "code",
   "execution_count": 30,
   "id": "83787f87",
   "metadata": {},
   "outputs": [],
   "source": [
    "@jit(nopython=True)\n",
    "def vec_poly(x, res):\n",
    "    m,n=x.shape\n",
    "    feat_idx=0\n",
    "    for i in range(n):\n",
    "        v1=x[:,i]\n",
    "        for k in range(m): res[k,feat_idx] = v1[k]\n",
    "        feat_idx+=1\n",
    "        for j in range(i,n):\n",
    "            for k in range(m): res[k,feat_idx] = v1[k]*x[k,j]\n",
    "            feat_idx+=1"
   ]
  },
  {
   "cell_type": "markdown",
   "id": "af4387ab",
   "metadata": {},
   "source": [
    "### Row-Major e Column-Major\n",
    "\n",
    "Prendiamo spunto dall'[articolo di Eli Bendersky](https://eli.thegreenplace.net/2015/memory-layout-of-multi-dimensional-arrays/)\n",
    "\"Il sistema row-major di una matrice mette le righe in regione di memoria contigue, il sistema column-major fa lo stesso con le colonne. Conoscere il layout è importante per avere buone performance non c'è nessuna risposta su quale sia il layout migliore in generale.\"\n",
    "\n",
    "\n",
    "* **Column-major layout:** Fortran, Matlab, R, and Julia\n",
    "* **Row-major layout:** C, C++, Python, Pascal, Mathematica\n",
    "\n"
   ]
  },
  {
   "cell_type": "code",
   "execution_count": 31,
   "id": "b571c436",
   "metadata": {},
   "outputs": [],
   "source": [
    "trn = np.asfortranarray(trn)\n",
    "test = np.asfortranarray(test)"
   ]
  },
  {
   "cell_type": "code",
   "execution_count": 32,
   "id": "f37985cb",
   "metadata": {},
   "outputs": [],
   "source": [
    "m,n=trn.shape\n",
    "n_feat = n*(n+1)//2 + n\n",
    "trn_feat = np.zeros((m,n_feat), order='F')\n",
    "test_feat = np.zeros((len(y_test), n_feat), order='F')"
   ]
  },
  {
   "cell_type": "code",
   "execution_count": 33,
   "id": "6dee5d6f",
   "metadata": {},
   "outputs": [],
   "source": [
    "vec_poly(trn, trn_feat)\n",
    "vec_poly(test, test_feat)"
   ]
  },
  {
   "cell_type": "code",
   "execution_count": 34,
   "id": "d58032e5",
   "metadata": {},
   "outputs": [
    {
     "data": {
      "text/plain": [
       "LinearRegression()"
      ]
     },
     "execution_count": 34,
     "metadata": {},
     "output_type": "execute_result"
    }
   ],
   "source": [
    "regr.fit(trn_feat, y_trn)"
   ]
  },
  {
   "cell_type": "code",
   "execution_count": 35,
   "id": "b807356c",
   "metadata": {},
   "outputs": [
    {
     "data": {
      "text/plain": [
       "(58.23909057980775, 45.12305980964734)"
      ]
     },
     "execution_count": 35,
     "metadata": {},
     "output_type": "execute_result"
    }
   ],
   "source": [
    "regr_metrics(y_test, regr.predict(test_feat))"
   ]
  },
  {
   "cell_type": "code",
   "execution_count": 36,
   "id": "2946df8b",
   "metadata": {},
   "outputs": [
    {
     "name": "stdout",
     "output_type": "stream",
     "text": [
      "23.2 µs ± 1.74 µs per loop (mean ± std. dev. of 7 runs, 10000 loops each)\n"
     ]
    }
   ],
   "source": [
    "%timeit vec_poly(trn, trn_feat)"
   ]
  },
  {
   "cell_type": "code",
   "execution_count": 37,
   "id": "65248960",
   "metadata": {},
   "outputs": [
    {
     "name": "stdout",
     "output_type": "stream",
     "text": [
      "322 µs ± 31.3 µs per loop (mean ± std. dev. of 7 runs, 1000 loops each)\n"
     ]
    }
   ],
   "source": [
    "%timeit poly.fit_transform(trn)"
   ]
  },
  {
   "cell_type": "code",
   "execution_count": 38,
   "id": "4f8bb9b3",
   "metadata": {},
   "outputs": [
    {
     "data": {
      "text/plain": [
       "13.879310344827587"
      ]
     },
     "execution_count": 38,
     "metadata": {},
     "output_type": "execute_result"
    }
   ],
   "source": [
    "322/23.2"
   ]
  },
  {
   "cell_type": "markdown",
   "id": "ce70efd8",
   "metadata": {},
   "source": [
    "## Regolarizzazione e rumore\n",
    "\n",
    "La regolarizzazione è un modo per ridurre l'over-fitting e creare modelli che generalizzano bene sui nuovi dati.\n",
    "\n",
    "### Regolarizzazione\n",
    "\n",
    "La regressione Lasso usa una regolarizzazione con la penalità L1 che favorisce la generazione di coefficienti sparsi. Il paramentro $\\alpha$ è usato per gestire quanto penalizzare Scikit Learn esegue una cross validation con differenti valori $\\alpha$ \n",
    "\n",
    "Se vogliamo maggiori dettagli rimando a [Coursera](https://www.coursera.org/lecture/machine-learning-data-analysis/what-is-lasso-regression-0KIy7)."
   ]
  },
  {
   "cell_type": "code",
   "execution_count": 41,
   "id": "c6f05433",
   "metadata": {},
   "outputs": [],
   "source": [
    "reg_regr = linear_model.LassoCV(n_alphas=100)"
   ]
  },
  {
   "cell_type": "code",
   "execution_count": 42,
   "id": "3a856add",
   "metadata": {},
   "outputs": [
    {
     "name": "stderr",
     "output_type": "stream",
     "text": [
      "C:\\ProgramData\\Anaconda3\\lib\\site-packages\\sklearn\\linear_model\\_coordinate_descent.py:526: ConvergenceWarning: Objective did not converge. You might want to increase the number of iterations. Duality gap: 2764.5887538234238, tolerance: 180.36886241134752\n",
      "  model = cd_fast.enet_coordinate_descent_gram(\n"
     ]
    },
    {
     "data": {
      "text/plain": [
       "LassoCV()"
      ]
     },
     "execution_count": 42,
     "metadata": {},
     "output_type": "execute_result"
    }
   ],
   "source": [
    "reg_regr.fit(trn_feat, y_trn)"
   ]
  },
  {
   "cell_type": "code",
   "execution_count": 43,
   "id": "d1bb4874",
   "metadata": {},
   "outputs": [
    {
     "data": {
      "text/plain": [
       "0.00917592564562634"
      ]
     },
     "execution_count": 43,
     "metadata": {},
     "output_type": "execute_result"
    }
   ],
   "source": [
    "reg_regr.alpha_"
   ]
  },
  {
   "cell_type": "code",
   "execution_count": 44,
   "id": "99f4ce9d",
   "metadata": {},
   "outputs": [
    {
     "data": {
      "text/plain": [
       "(49.14163972811118, 38.80085098513197)"
      ]
     },
     "execution_count": 44,
     "metadata": {},
     "output_type": "execute_result"
    }
   ],
   "source": [
    "regr_metrics(y_test, reg_regr.predict(test_feat))"
   ]
  },
  {
   "cell_type": "code",
   "execution_count": 46,
   "id": "0879f936",
   "metadata": {},
   "outputs": [
    {
     "name": "stderr",
     "output_type": "stream",
     "text": [
      "C:\\ProgramData\\Anaconda3\\lib\\site-packages\\sklearn\\linear_model\\_huber.py:296: ConvergenceWarning: lbfgs failed to converge (status=1):\n",
      "STOP: TOTAL NO. of ITERATIONS REACHED LIMIT.\n",
      "\n",
      "Increase the number of iterations (max_iter) or scale the data as shown in:\n",
      "    https://scikit-learn.org/stable/modules/preprocessing.html\n",
      "  self.n_iter_ = _check_optimize_result(\"lbfgs\", opt_res, self.max_iter)\n"
     ]
    },
    {
     "data": {
      "text/plain": [
       "(50.58141515960356, 40.09214129926889)"
      ]
     },
     "execution_count": 46,
     "metadata": {},
     "output_type": "execute_result"
    }
   ],
   "source": [
    "hregr = linear_model.HuberRegressor()\n",
    "hregr.fit(trn, y_trn)\n",
    "regr_metrics(y_test, hregr.predict(test))"
   ]
  },
  {
   "cell_type": "code",
   "execution_count": null,
   "id": "c73b4a34",
   "metadata": {},
   "outputs": [],
   "source": []
  }
 ],
 "metadata": {
  "kernelspec": {
   "display_name": "Python 3 (ipykernel)",
   "language": "python",
   "name": "python3"
  },
  "language_info": {
   "codemirror_mode": {
    "name": "ipython",
    "version": 3
   },
   "file_extension": ".py",
   "mimetype": "text/x-python",
   "name": "python",
   "nbconvert_exporter": "python",
   "pygments_lexer": "ipython3",
   "version": "3.9.7"
  }
 },
 "nbformat": 4,
 "nbformat_minor": 5
}
