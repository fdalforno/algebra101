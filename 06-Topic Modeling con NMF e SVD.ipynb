{
 "cells": [
  {
   "cell_type": "markdown",
   "id": "b9ffbd86",
   "metadata": {},
   "source": [
    "# Topic Modeling\n",
    "\n",
    "il topic modeling rappresenta un bel punto su cui partire per analizzare la fattorizzazione delle matrici.\n",
    "Partiamo con la matrice termine documento.\n",
    "\n",
    "![term matrix](images\\document_term.png)\n",
    "\n",
    "Possiamo scomporre questa matrice in una matrice alta e sottile che va a moltiplicarsi in una larga e corta (con una matrice diagonale in mezzo)\n",
    "\n",
    "Si noti che questa rappresentazione non tiene conto dell'ordine della parole o della struttura della frase. E' un esempio dell'approccio bag of words.\n",
    "\n",
    "\n",
    "## Motivazione\n",
    "\n",
    "Consideriamo il caso estremo - ricostruire la matrice usando un prodotto esterno di due vettori.\n",
    "Chiaramente, nella maggioranza dei casi non saremo in grafo di ricostruire la matrice esattamente.\n",
    "\n",
    "Ma se avessimo un vettore con la frequenza relativa di ogni parola del vocabolario sul conteggio totale delle parole e uno con il numero medio di parole per documento, allora quel prodotto esterno sarebbe il più vicino possibile.\n",
    "\n",
    "Ora consideriamo di aumentare questa matrice a due colonne e due righe. La decomposizione ottimale sarebbe quella di raggruppare  i documenti in due gruppi, uno dei quali ha una distribuzione il più possibile differente di parole ma il più simile possibile tra i documenti del cluster.\n",
    "Chiameremo questi due gruppi \"topics\". Quello che vogliamo è raggruppare le parole in due gruppi, sulla base di quelli che compaiono frequentementi su quei argomenti. \n",
    "\n",
    "Prendiamo un insieme di documenti di differenti categorie e troviamo gli argomenti (che consistono in un gruppo di parole) per essi.\n",
    "Conoscere le categorie attiali ci aiuta a valutare se gli argomenti che abbiamo trovato hanno senso.\n",
    "Proveremo ad usare due sistemi di fattorizzazione:\n",
    "\n",
    "* SVD singular value decomposition\n",
    "* NMF non negative matrix factorization\n",
    "\n"
   ]
  },
  {
   "cell_type": "code",
   "execution_count": 1,
   "id": "9837b909",
   "metadata": {},
   "outputs": [],
   "source": [
    "import numpy as np\n",
    "from sklearn.datasets import fetch_20newsgroups\n",
    "from sklearn import decomposition\n",
    "from scipy import linalg\n",
    "import matplotlib.pyplot as plt"
   ]
  },
  {
   "cell_type": "code",
   "execution_count": 2,
   "id": "80d5e1d6",
   "metadata": {},
   "outputs": [],
   "source": [
    "%matplotlib inline\n",
    "np.set_printoptions(suppress=True)"
   ]
  },
  {
   "cell_type": "markdown",
   "id": "3fa9a5ae",
   "metadata": {},
   "source": [
    "## Impostazione dei dati\n",
    "\n",
    "Scikit learn ha un sacco di dataset con cui iniziare a lavorare, partiamo con un piccolo sottoinsieme di argomenti"
   ]
  },
  {
   "cell_type": "code",
   "execution_count": 3,
   "id": "d14f0d11",
   "metadata": {},
   "outputs": [],
   "source": [
    "categories = ['alt.atheism', 'talk.religion.misc', 'comp.graphics', 'sci.space']\n",
    "remove = ('headers', 'footers', 'quotes')\n",
    "newsgroups_train = fetch_20newsgroups(subset='train', categories=categories, remove=remove)\n",
    "newsgroups_test = fetch_20newsgroups(subset='test', categories=categories, remove=remove)"
   ]
  },
  {
   "cell_type": "code",
   "execution_count": 4,
   "id": "ad89c801",
   "metadata": {},
   "outputs": [
    {
     "data": {
      "text/plain": [
       "((2034,), (2034,))"
      ]
     },
     "execution_count": 4,
     "metadata": {},
     "output_type": "execute_result"
    }
   ],
   "source": [
    "newsgroups_train.filenames.shape, newsgroups_train.target.shape"
   ]
  },
  {
   "cell_type": "markdown",
   "id": "8fc0ca27",
   "metadata": {},
   "source": [
    "Controlliamo degli esempio di argomenti:"
   ]
  },
  {
   "cell_type": "code",
   "execution_count": 5,
   "id": "5fad671a",
   "metadata": {},
   "outputs": [
    {
     "name": "stdout",
     "output_type": "stream",
     "text": [
      "Hi,\n",
      "\n",
      "I've noticed that if you only save a model (with all your mapping planes\n",
      "positioned carefully) to a .3DS file that when you reload it after restarting\n",
      "3DS, they are given a default position and orientation.  But if you save\n",
      "to a .PRJ file their positions/orientation are preserved.  Does anyone\n",
      "know why this information is not stored in the .3DS file?  Nothing is\n",
      "explicitly said in the manual about saving texture rules in the .PRJ file. \n",
      "I'd like to be able to read the texture rule information, does anyone have \n",
      "the format for the .PRJ file?\n",
      "\n",
      "Is the .CEL file format available from somewhere?\n",
      "\n",
      "Rych\n",
      "\n",
      "\n",
      "Seems to be, barring evidence to the contrary, that Koresh was simply\n",
      "another deranged fanatic who thought it neccessary to take a whole bunch of\n",
      "folks with him, children and all, to satisfy his delusional mania. Jim\n",
      "Jones, circa 1993.\n",
      "\n",
      "\n",
      "Nope - fruitcakes like Koresh have been demonstrating such evil corruption\n",
      "for centuries.\n",
      "\n",
      " >In article <1993Apr19.020359.26996@sq.sq.com>, msb@sq.sq.com (Mark Brader) \n",
      "\n",
      "MB>                                                             So the\n",
      "MB> 1970 figure seems unlikely to actually be anything but a perijove.\n",
      "\n",
      "JG>Sorry, _perijoves_...I'm not used to talking this language.\n",
      "\n",
      "Couldn't we just say periapsis or apoapsis?\n",
      "\n",
      " \n"
     ]
    }
   ],
   "source": [
    "print(\"\\n\".join(newsgroups_train.data[:3]))"
   ]
  },
  {
   "cell_type": "code",
   "execution_count": 6,
   "id": "36302c6b",
   "metadata": {},
   "outputs": [
    {
     "data": {
      "text/plain": [
       "['alt.atheism', 'comp.graphics', 'sci.space', 'talk.religion.misc']"
      ]
     },
     "execution_count": 6,
     "metadata": {},
     "output_type": "execute_result"
    }
   ],
   "source": [
    "newsgroups_train.target_names"
   ]
  },
  {
   "cell_type": "code",
   "execution_count": 7,
   "id": "e6d19022",
   "metadata": {},
   "outputs": [
    {
     "data": {
      "text/plain": [
       "array([1, 3, 2, 0, 2, 0, 2, 1, 2, 1], dtype=int64)"
      ]
     },
     "execution_count": 7,
     "metadata": {},
     "output_type": "execute_result"
    }
   ],
   "source": [
    "newsgroups_train.target[:10]"
   ]
  },
  {
   "cell_type": "code",
   "execution_count": 8,
   "id": "66243ff3",
   "metadata": {},
   "outputs": [],
   "source": [
    "num_topics, num_top_words = 6, 8"
   ]
  },
  {
   "cell_type": "markdown",
   "id": "7c1c5fee",
   "metadata": {},
   "source": [
    "Ora grazie a scikit learn abbiamo un metodo per estrarre tutte le parole e contarle."
   ]
  },
  {
   "cell_type": "code",
   "execution_count": 9,
   "id": "404cb8bd",
   "metadata": {},
   "outputs": [],
   "source": [
    "from sklearn.feature_extraction.text import CountVectorizer, TfidfVectorizer"
   ]
  },
  {
   "cell_type": "code",
   "execution_count": 10,
   "id": "ba1a0a88",
   "metadata": {},
   "outputs": [
    {
     "data": {
      "text/plain": [
       "(2034, 26576)"
      ]
     },
     "execution_count": 10,
     "metadata": {},
     "output_type": "execute_result"
    }
   ],
   "source": [
    "vectorizer = CountVectorizer(stop_words='english')\n",
    "vectors = vectorizer.fit_transform(newsgroups_train.data).todense() # (documents, vocab)\n",
    "vectors.shape #, vectors.nnz / vectors.shape[0], row_means.shape"
   ]
  },
  {
   "cell_type": "code",
   "execution_count": 11,
   "id": "c2758932",
   "metadata": {},
   "outputs": [
    {
     "name": "stdout",
     "output_type": "stream",
     "text": [
      "2034 (2034, 26576)\n"
     ]
    }
   ],
   "source": [
    "print(len(newsgroups_train.data), vectors.shape)"
   ]
  },
  {
   "cell_type": "code",
   "execution_count": 12,
   "id": "899f73c8",
   "metadata": {},
   "outputs": [],
   "source": [
    "vocab = np.array(vectorizer.get_feature_names())"
   ]
  },
  {
   "cell_type": "code",
   "execution_count": 13,
   "id": "7031f190",
   "metadata": {},
   "outputs": [
    {
     "data": {
      "text/plain": [
       "array(['cosmonauts', 'cosmos', 'cosponsored', 'cost', 'costa', 'costar',\n",
       "       'costing', 'costly', 'costruction', 'costs', 'cosy', 'cote',\n",
       "       'couched', 'couldn', 'council', 'councils', 'counsel',\n",
       "       'counselees', 'counselor', 'count'], dtype='<U80')"
      ]
     },
     "execution_count": 13,
     "metadata": {},
     "output_type": "execute_result"
    }
   ],
   "source": [
    "vocab[7000:7020]"
   ]
  },
  {
   "cell_type": "markdown",
   "id": "9d85b5b6",
   "metadata": {},
   "source": [
    "## Decomposizione a valori singoli\n",
    "\n",
    "Ci aspettiamo che una parola che appare più frequentemente in un argomento appaia meno frequentementemente negli altri.\n",
    "Altrimenti quella parola non sarebbe una buona scelta per separare due argomenti.\n",
    "Pertanto ci aspettiamo che gli argomenti siano ortogonali\n",
    "L'algoritmo SVD fattorizza una matrice in una matrice con colonne ortogonali e una con righe ortogonali e una matrice diagonale che contiene le relative importanze di ogni fattore.\n",
    "\n",
    "![svd](images\\svd_fb.png)\n",
    "\n",
    "SVD è una decomposizione esatta, visto che le matrici che crea sono grandi abbastanza da ricreare la matrice originale.\n",
    "SVD è estremamente usata nell'algebra lineare, specificamente nel data science compreso:\n",
    "\n",
    "* analisi semantica\n",
    "* filtri collaborativi\n",
    "* compressione dei dati\n",
    "* analisi delle componenti principali\n",
    "\n"
   ]
  },
  {
   "cell_type": "code",
   "execution_count": 14,
   "id": "cade438d",
   "metadata": {},
   "outputs": [
    {
     "name": "stdout",
     "output_type": "stream",
     "text": [
      "Wall time: 1min 35s\n"
     ]
    }
   ],
   "source": [
    "%time U, s, Vh = linalg.svd(vectors, full_matrices=False)"
   ]
  },
  {
   "cell_type": "code",
   "execution_count": 15,
   "id": "efb095fa",
   "metadata": {},
   "outputs": [
    {
     "name": "stdout",
     "output_type": "stream",
     "text": [
      "(2034, 2034) (2034,) (2034, 26576)\n"
     ]
    }
   ],
   "source": [
    "print(U.shape, s.shape, Vh.shape)"
   ]
  },
  {
   "cell_type": "markdown",
   "id": "b9caae62",
   "metadata": {},
   "source": [
    "Verifichiamo che la decomposizione è corretta: "
   ]
  },
  {
   "cell_type": "code",
   "execution_count": 16,
   "id": "b5d4141d",
   "metadata": {},
   "outputs": [
    {
     "name": "stdout",
     "output_type": "stream",
     "text": [
      "0.00000\n"
     ]
    }
   ],
   "source": [
    "ricostruito = U @ np.diag(s) @ Vh\n",
    "scarto = np.max(np.abs(ricostruito - vectors))\n",
    "print(f\"{scarto:.5f}\")"
   ]
  },
  {
   "cell_type": "code",
   "execution_count": 17,
   "id": "32870141",
   "metadata": {},
   "outputs": [
    {
     "data": {
      "text/plain": [
       "True"
      ]
     },
     "execution_count": 17,
     "metadata": {},
     "output_type": "execute_result"
    }
   ],
   "source": [
    "np.allclose(ricostruito,vectors)"
   ]
  },
  {
   "cell_type": "markdown",
   "id": "13f295bc",
   "metadata": {},
   "source": [
    "Verifica che U e Vh sono ortonormali"
   ]
  },
  {
   "cell_type": "code",
   "execution_count": 18,
   "id": "f1379031",
   "metadata": {},
   "outputs": [
    {
     "data": {
      "text/plain": [
       "True"
      ]
     },
     "execution_count": 18,
     "metadata": {},
     "output_type": "execute_result"
    }
   ],
   "source": [
    "np.allclose(U @ U.T,np.eye(2034))"
   ]
  },
  {
   "cell_type": "code",
   "execution_count": 19,
   "id": "7dc19eec",
   "metadata": {},
   "outputs": [
    {
     "data": {
      "text/plain": [
       "True"
      ]
     },
     "execution_count": 19,
     "metadata": {},
     "output_type": "execute_result"
    }
   ],
   "source": [
    "np.allclose((Vh @ Vh.T),np.eye(2034))"
   ]
  },
  {
   "cell_type": "markdown",
   "id": "756362aa",
   "metadata": {},
   "source": [
    "## Topic\n",
    "\n",
    "Analizziamo ora gli argomenti utilizzando la matrice s"
   ]
  },
  {
   "cell_type": "code",
   "execution_count": 20,
   "id": "9f36ddc2",
   "metadata": {},
   "outputs": [
    {
     "data": {
      "image/png": "[encoded data removed]",
      "text/plain": [
       "<Figure size 432x288 with 1 Axes>"
      ]
     },
     "metadata": {
      "needs_background": "light"
     },
     "output_type": "display_data"
    }
   ],
   "source": [
    "plt.plot(s);"
   ]
  },
  {
   "cell_type": "code",
   "execution_count": 21,
   "id": "35c23850",
   "metadata": {},
   "outputs": [
    {
     "data": {
      "image/png": "[encoded data removed]",
      "text/plain": [
       "<Figure size 432x288 with 1 Axes>"
      ]
     },
     "metadata": {
      "needs_background": "light"
     },
     "output_type": "display_data"
    }
   ],
   "source": [
    "fig = plt.figure()\n",
    "ax = fig.add_subplot(2, 1, 1)\n",
    "line, = ax.plot(s[:10], color='blue', lw=2)\n",
    "ax.set_yscale('log')"
   ]
  },
  {
   "cell_type": "markdown",
   "id": "40cd9d7b",
   "metadata": {},
   "source": [
    "Analizziamo ora le parole divise per argomenti "
   ]
  },
  {
   "cell_type": "code",
   "execution_count": 22,
   "id": "4c418795",
   "metadata": {},
   "outputs": [],
   "source": [
    "num_top_words=8\n",
    "\n",
    "def show_topics(a):\n",
    "    top_words = lambda t: [vocab[i] for i in np.argsort(t)[:-num_top_words-1:-1]]\n",
    "    topic_words = ([top_words(t) for t in a])\n",
    "    return [' '.join(t) for t in topic_words]"
   ]
  },
  {
   "cell_type": "code",
   "execution_count": 23,
   "id": "ccab1a26",
   "metadata": {},
   "outputs": [
    {
     "data": {
      "text/plain": [
       "['critus ditto propagandist surname galacticentric kindergarten surreal imaginative',\n",
       " 'edu graphics data space pub mail 128 3d',\n",
       " 'space jesus launch god people satellite matthew atheists',\n",
       " 'space launch satellite commercial nasa satellites market year',\n",
       " 'jpeg graphics space pub edu ray mail send',\n",
       " 'jesus matthew prophecy messiah psalm isaiah david said',\n",
       " 'launch commercial satellite market image services satellites launches',\n",
       " 'data available nasa ftp grass anonymous contact gov']"
      ]
     },
     "execution_count": 23,
     "metadata": {},
     "output_type": "execute_result"
    }
   ],
   "source": [
    "show_topics(Vh[:8])"
   ]
  },
  {
   "cell_type": "markdown",
   "id": "e32afc4e",
   "metadata": {},
   "source": [
    "Otteniamo dei gruppi di argomenti (topic) che corrispondono a quanto richiesto. Questo considerando il fatto che si tratta di un algoritmo non supervisionato. \n",
    "\n",
    "Torneremo su SVD più nel dettaglio più avanti. Per ora l'importante è ricordarci che abbiamo uno strumento che ci permette di estrarre una fattorizzazione matriciale in colonne ortogonali e righe ortogonali.\n",
    "\n",
    "## Non-negative Matrix Factorization (NMF)\n",
    "\n",
    "\n",
    "![face pca](images\\face_pca.png)\n",
    "\n",
    "\n",
    "un approccio più comprensibile\n",
    "\n",
    "![face nmf](images\\face_outputs.png)\n",
    "\n",
    "\n",
    "L'idea è che pittosto che avere fattori ortogonali potremmo avere il vincolo che essi siano non negativi.\n",
    "NMF rappresenta una fattorizzazione di un dataset non negativo $V$ in:\n",
    "\n",
    "$$V = WH$$\n",
    "\n",
    "$W$ e $H$ sono matrici non negative. Spesso i fattori positivi sono più facili da interpretare. Questa è la ragione del perchè NMF è popolare.\n",
    "\n",
    "![face nmf](images\\face_nmf.png)\n",
    "\n",
    "\n",
    "Nonnegative matrix factorization (NMF) è una fattorizzazione non esatta, NMF è un problema NP-Difficile e la soluzione non è univoca. Ci sono molte variazioni su di essto, create aggiungendo differenti vincoli.\n",
    "\n",
    "## NMF con sklearn\n",
    "\n",
    "utilizziamo l'implementazione di [sklearn](https://scikit-learn.org/stable/modules/generated/sklearn.decomposition.NMF.html)"
   ]
  },
  {
   "cell_type": "code",
   "execution_count": 24,
   "id": "2da94d2f",
   "metadata": {},
   "outputs": [],
   "source": [
    "m,n=vectors.shape\n",
    "d=8  # num topics"
   ]
  },
  {
   "cell_type": "code",
   "execution_count": 25,
   "id": "4539700d",
   "metadata": {},
   "outputs": [
    {
     "name": "stderr",
     "output_type": "stream",
     "text": [
      "C:\\ProgramData\\Anaconda3\\lib\\site-packages\\sklearn\\decomposition\\_nmf.py:312: FutureWarning: The 'init' value, when 'init=None' and n_components is less than n_samples and n_features, will be changed from 'nndsvd' to 'nndsvda' in 1.1 (renaming of 0.26).\n",
      "  warnings.warn((\"The 'init' value, when 'init=None' and \"\n"
     ]
    }
   ],
   "source": [
    "clf = decomposition.NMF(n_components=d, random_state=1)\n",
    "\n",
    "W1 = clf.fit_transform(vectors)\n",
    "H1 = clf.components_"
   ]
  },
  {
   "cell_type": "code",
   "execution_count": 26,
   "id": "3eefa448",
   "metadata": {},
   "outputs": [
    {
     "data": {
      "text/plain": [
       "['jpeg image gif file color images format quality',\n",
       " 'edu graphics pub mail 128 ray send ftp',\n",
       " 'launch space satellite commercial market satellites year data',\n",
       " 'jesus matthew prophecy people said messiah david isaiah',\n",
       " 'image data available software processing ftp edu analysis',\n",
       " 'god atheists atheism religious believe people religion does',\n",
       " 'space nasa shuttle available information center data list',\n",
       " 'probe lunar mars moon surface probes orbit earth']"
      ]
     },
     "execution_count": 26,
     "metadata": {},
     "output_type": "execute_result"
    }
   ],
   "source": [
    "show_topics(H1)"
   ]
  },
  {
   "cell_type": "markdown",
   "id": "966caf39",
   "metadata": {},
   "source": [
    "## TF-IDF\n",
    "\n",
    "Term Frequency-Inverse Document Frequency (TF-IDF) è un sistema per normalizzare i termini \n",
    "\n",
    "* TF = (numero di occorrenze di t nel documento) / (numero di parole nel documento)\n",
    "* IDF = log(numero di documenti / numero di documenti che contengono la parola t)\n",
    "\n"
   ]
  },
  {
   "cell_type": "code",
   "execution_count": 27,
   "id": "8b05a586",
   "metadata": {},
   "outputs": [],
   "source": [
    "vectorizer_tfidf = TfidfVectorizer(stop_words='english')\n",
    "vectors_tfidf = vectorizer_tfidf.fit_transform(newsgroups_train.data) # (documents, vocab)"
   ]
  },
  {
   "cell_type": "code",
   "execution_count": 28,
   "id": "bbb54131",
   "metadata": {},
   "outputs": [
    {
     "name": "stderr",
     "output_type": "stream",
     "text": [
      "C:\\ProgramData\\Anaconda3\\lib\\site-packages\\sklearn\\decomposition\\_nmf.py:312: FutureWarning: The 'init' value, when 'init=None' and n_components is less than n_samples and n_features, will be changed from 'nndsvd' to 'nndsvda' in 1.1 (renaming of 0.26).\n",
      "  warnings.warn((\"The 'init' value, when 'init=None' and \"\n"
     ]
    }
   ],
   "source": [
    "W1 = clf.fit_transform(vectors_tfidf)\n",
    "H1 = clf.components_"
   ]
  },
  {
   "cell_type": "code",
   "execution_count": 29,
   "id": "9310f557",
   "metadata": {},
   "outputs": [
    {
     "data": {
      "text/plain": [
       "['don people think just like say know religion',\n",
       " 'files file image format cview tiff gif use',\n",
       " 'space nasa launch shuttle orbit lunar moon station',\n",
       " 'ico bobbe tek beauchaine bronx manhattan sank queens',\n",
       " 'god jesus bible believe atheism christian belief does',\n",
       " 'objective morality values moral subjective science absolute claim',\n",
       " 'graphics comp software group 3d aspects amiga just',\n",
       " 'thanks know looking advance does mail help hi']"
      ]
     },
     "execution_count": 29,
     "metadata": {},
     "output_type": "execute_result"
    }
   ],
   "source": [
    "show_topics(H1)"
   ]
  },
  {
   "cell_type": "code",
   "execution_count": 30,
   "id": "b99f3122",
   "metadata": {},
   "outputs": [
    {
     "data": {
      "text/plain": [
       "[<matplotlib.lines.Line2D at 0x234363f5280>]"
      ]
     },
     "execution_count": 30,
     "metadata": {},
     "output_type": "execute_result"
    },
    {
     "data": {
      "image/png": "[encoded data removed]",
      "text/plain": [
       "<Figure size 432x288 with 1 Axes>"
      ]
     },
     "metadata": {
      "needs_background": "light"
     },
     "output_type": "display_data"
    }
   ],
   "source": [
    "plt.plot(clf.components_[0])"
   ]
  },
  {
   "cell_type": "code",
   "execution_count": 31,
   "id": "97d6839e",
   "metadata": {},
   "outputs": [
    {
     "data": {
      "text/plain": [
       "43.53336436449125"
      ]
     },
     "execution_count": 31,
     "metadata": {},
     "output_type": "execute_result"
    }
   ],
   "source": [
    "clf.reconstruction_err_"
   ]
  },
  {
   "cell_type": "code",
   "execution_count": 32,
   "id": "33e4882a",
   "metadata": {},
   "outputs": [
    {
     "data": {
      "text/plain": [
       "array([0.00213864, 0.14095082, 0.        , 0.00582631, 0.00833493,\n",
       "       0.0036465 , 0.        , 0.01673103])"
      ]
     },
     "execution_count": 32,
     "metadata": {},
     "output_type": "execute_result"
    }
   ],
   "source": [
    "W1[0]"
   ]
  },
  {
   "cell_type": "markdown",
   "id": "af79ffe4",
   "metadata": {},
   "source": [
    "## Truncated SVD\n",
    "\n",
    "Abbiamo salvato un sacco di tempo quando abbiamo calcolato la fattorizzazione NMF con un sottoinsieme di colonne a cui siamo interessati. Perchè non usare questa ottimizzazione anche con SVD?\n",
    "Si chiama truncated SVD.\n",
    "\n",
    "Carenze dei metodi classici di decomposizione:\n",
    "\n",
    "* Le matrici sono sorprendentemente grandi\n",
    "* I dati sono spesso mancanti o inaccurati. Perchè spendere un sacco di risorse computazionali quando sono imprecisi\n",
    "* Il trasferimento dei dati ora gica un ruolo importante. Le tecniche che richiedono poche passate sui dati sono sostanzialmente più velocu anche se richiedono più flops (flops = floating point operations).\n",
    "* E' importante prendere quanto più possibile i vantaggi dalle GPU.\n",
    "\n",
    "Vantaggi degli algoritmi randomizzati:\n",
    "* intrinsicamente stabili\n",
    "* le performances sono garantite non dipendono da sottili proprietà spettrali\n",
    "* possibilità di parallelizazione\n"
   ]
  },
  {
   "cell_type": "code",
   "execution_count": 33,
   "id": "8983f020",
   "metadata": {},
   "outputs": [
    {
     "name": "stdout",
     "output_type": "stream",
     "text": [
      "Wall time: 7.4 s\n"
     ]
    }
   ],
   "source": [
    "%time u, s, v = decomposition.randomized_svd(vectors, 5)"
   ]
  },
  {
   "cell_type": "code",
   "execution_count": 34,
   "id": "4395bae7",
   "metadata": {},
   "outputs": [
    {
     "data": {
      "text/plain": [
       "((2034, 5), (5,), (5, 26576))"
      ]
     },
     "execution_count": 34,
     "metadata": {},
     "output_type": "execute_result"
    }
   ],
   "source": [
    "u.shape, s.shape, v.shape"
   ]
  },
  {
   "cell_type": "code",
   "execution_count": 35,
   "id": "a748de25",
   "metadata": {},
   "outputs": [
    {
     "data": {
      "text/plain": [
       "['jpeg image edu file graphics images gif data',\n",
       " 'jpeg gif file color quality image jfif format',\n",
       " 'space jesus launch god people satellite matthew atheists',\n",
       " 'jesus god matthew people atheists atheism does graphics',\n",
       " 'image data processing analysis software available tools display']"
      ]
     },
     "execution_count": 35,
     "metadata": {},
     "output_type": "execute_result"
    }
   ],
   "source": [
    "show_topics(v)"
   ]
  },
  {
   "cell_type": "code",
   "execution_count": null,
   "id": "e43c1e2c",
   "metadata": {},
   "outputs": [],
   "source": []
  }
 ],
 "metadata": {
  "kernelspec": {
   "display_name": "Python 3 (ipykernel)",
   "language": "python",
   "name": "python3"
  },
  "language_info": {
   "codemirror_mode": {
    "name": "ipython",
    "version": 3
   },
   "file_extension": ".py",
   "mimetype": "text/x-python",
   "name": "python",
   "nbconvert_exporter": "python",
   "pygments_lexer": "ipython3",
   "version": "3.9.7"
  }
 },
 "nbformat": 4,
 "nbformat_minor": 5
}
